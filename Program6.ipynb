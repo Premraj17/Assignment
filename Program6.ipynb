{
  "nbformat": 4,
  "nbformat_minor": 0,
  "metadata": {
    "colab": {
      "name": "Program6.ipynb",
      "provenance": []
    },
    "kernelspec": {
      "name": "python3",
      "display_name": "Python 3"
    }
  },
  "cells": [
    {
      "cell_type": "markdown",
      "metadata": {
        "id": "OmtK_eDYLPRH"
      },
      "source": [
        "**Data Aggregation**"
      ]
    },
    {
      "cell_type": "code",
      "metadata": {
        "id": "UCjmEXgiLXts"
      },
      "source": [
        "import pandas as pd\n",
        "file_name='/content/amazon_fires (3).csv'\n",
        "df=pd.read_csv(file_name,encoding='ISO-8859-1')\n",
        "new_columns={'ano':'year',\n",
        "             'estado':'state',\n",
        "             'mes':'month',\n",
        "             'numero':'number_of_fires',\n",
        "             'encontro':'date'}    \n",
        "df.rename(columns=new_columns,inplace=True)\n",
        "df['state']=df['state'].str.title()\n",
        "df['number_of_fires']=df['number_of_fires'].str.strip('Fires')\n",
        "df['number_of_fires']=df['number_of_fires'].fillna(0)\n",
        "df['number_of_fires']=df['number_of_fires'].astype(float)"
      ],
      "execution_count": null,
      "outputs": []
    },
    {
      "cell_type": "code",
      "metadata": {
        "id": "CIwyPGPwLt2_"
      },
      "source": [
        "#Introduction to map function\n",
        "month_translations={'Janerio':'January',\n",
        "                    'Fevereiro':'February',\n",
        "                    'Março':'March',\n",
        "                    'Abril':'April',\n",
        "                    'Maio':'May',\n",
        "                    'Junho':'June',\n",
        "                    'Julho':'July',\n",
        "                    'Agosto':'August',\n",
        "                    'Setembro':'September',\n",
        "                    'Outubro':'October',\n",
        "                    'Novembro':'November',\n",
        "                    'Dezembro':'December'}\n",
        "df[\"month\"]=df[\"month\"].map(month_translations)\n"
      ],
      "execution_count": null,
      "outputs": []
    },
    {
      "cell_type": "code",
      "metadata": {
        "colab": {
          "base_uri": "https://localhost:8080/",
          "height": 514
        },
        "id": "nR2fa1D0Pw1S",
        "outputId": "657bdaea-2733-4f4e-d783-18695aa446d3"
      },
      "source": [
        "df.tail(15)"
      ],
      "execution_count": null,
      "outputs": [
        {
          "output_type": "execute_result",
          "data": {
            "text/html": [
              "<div>\n",
              "<style scoped>\n",
              "    .dataframe tbody tr th:only-of-type {\n",
              "        vertical-align: middle;\n",
              "    }\n",
              "\n",
              "    .dataframe tbody tr th {\n",
              "        vertical-align: top;\n",
              "    }\n",
              "\n",
              "    .dataframe thead th {\n",
              "        text-align: right;\n",
              "    }\n",
              "</style>\n",
              "<table border=\"1\" class=\"dataframe\">\n",
              "  <thead>\n",
              "    <tr style=\"text-align: right;\">\n",
              "      <th></th>\n",
              "      <th>year</th>\n",
              "      <th>month</th>\n",
              "      <th>state</th>\n",
              "      <th>number_of_fires</th>\n",
              "      <th>date</th>\n",
              "    </tr>\n",
              "  </thead>\n",
              "  <tbody>\n",
              "    <tr>\n",
              "      <th>500</th>\n",
              "      <td>1999</td>\n",
              "      <td>NaN</td>\n",
              "      <td>Amapa</td>\n",
              "      <td>1.0</td>\n",
              "      <td>01-01-1999</td>\n",
              "    </tr>\n",
              "    <tr>\n",
              "      <th>501</th>\n",
              "      <td>2000</td>\n",
              "      <td>NaN</td>\n",
              "      <td>Amapa</td>\n",
              "      <td>0.0</td>\n",
              "      <td>01-01-2000</td>\n",
              "    </tr>\n",
              "    <tr>\n",
              "      <th>502</th>\n",
              "      <td>2001</td>\n",
              "      <td>NaN</td>\n",
              "      <td>Amapa</td>\n",
              "      <td>0.0</td>\n",
              "      <td>01-01-2001</td>\n",
              "    </tr>\n",
              "    <tr>\n",
              "      <th>503</th>\n",
              "      <td>2002</td>\n",
              "      <td>NaN</td>\n",
              "      <td>Amapa</td>\n",
              "      <td>2.0</td>\n",
              "      <td>01-01-2002</td>\n",
              "    </tr>\n",
              "    <tr>\n",
              "      <th>504</th>\n",
              "      <td>2003</td>\n",
              "      <td>NaN</td>\n",
              "      <td>Amapa</td>\n",
              "      <td>0.0</td>\n",
              "      <td>01-01-2003</td>\n",
              "    </tr>\n",
              "    <tr>\n",
              "      <th>505</th>\n",
              "      <td>2004</td>\n",
              "      <td>NaN</td>\n",
              "      <td>Amapa</td>\n",
              "      <td>2.0</td>\n",
              "      <td>01-01-2004</td>\n",
              "    </tr>\n",
              "    <tr>\n",
              "      <th>506</th>\n",
              "      <td>2005</td>\n",
              "      <td>NaN</td>\n",
              "      <td>Amapa</td>\n",
              "      <td>1.0</td>\n",
              "      <td>01-01-2005</td>\n",
              "    </tr>\n",
              "    <tr>\n",
              "      <th>507</th>\n",
              "      <td>2006</td>\n",
              "      <td>NaN</td>\n",
              "      <td>Amapa</td>\n",
              "      <td>2.0</td>\n",
              "      <td>01-01-2006</td>\n",
              "    </tr>\n",
              "    <tr>\n",
              "      <th>508</th>\n",
              "      <td>2007</td>\n",
              "      <td>NaN</td>\n",
              "      <td>Amapa</td>\n",
              "      <td>0.0</td>\n",
              "      <td>01-01-2007</td>\n",
              "    </tr>\n",
              "    <tr>\n",
              "      <th>509</th>\n",
              "      <td>2008</td>\n",
              "      <td>NaN</td>\n",
              "      <td>Amapa</td>\n",
              "      <td>0.0</td>\n",
              "      <td>01-01-2008</td>\n",
              "    </tr>\n",
              "    <tr>\n",
              "      <th>510</th>\n",
              "      <td>2009</td>\n",
              "      <td>NaN</td>\n",
              "      <td>Amapa</td>\n",
              "      <td>0.0</td>\n",
              "      <td>01-01-2009</td>\n",
              "    </tr>\n",
              "    <tr>\n",
              "      <th>511</th>\n",
              "      <td>2010</td>\n",
              "      <td>NaN</td>\n",
              "      <td>Amapa</td>\n",
              "      <td>0.0</td>\n",
              "      <td>01-01-2010</td>\n",
              "    </tr>\n",
              "    <tr>\n",
              "      <th>512</th>\n",
              "      <td>2011</td>\n",
              "      <td>NaN</td>\n",
              "      <td>Amapa</td>\n",
              "      <td>3.0</td>\n",
              "      <td>01-01-2011</td>\n",
              "    </tr>\n",
              "    <tr>\n",
              "      <th>513</th>\n",
              "      <td>2012</td>\n",
              "      <td>NaN</td>\n",
              "      <td>Amapa</td>\n",
              "      <td>5.0</td>\n",
              "      <td>01-01-2012</td>\n",
              "    </tr>\n",
              "    <tr>\n",
              "      <th>514</th>\n",
              "      <td>2013</td>\n",
              "      <td>NaN</td>\n",
              "      <td>Amapa</td>\n",
              "      <td>0.0</td>\n",
              "      <td>01-01-2013</td>\n",
              "    </tr>\n",
              "  </tbody>\n",
              "</table>\n",
              "</div>"
            ],
            "text/plain": [
              "     year month  state  number_of_fires        date\n",
              "500  1999   NaN  Amapa              1.0  01-01-1999\n",
              "501  2000   NaN  Amapa              0.0  01-01-2000\n",
              "502  2001   NaN  Amapa              0.0  01-01-2001\n",
              "503  2002   NaN  Amapa              2.0  01-01-2002\n",
              "504  2003   NaN  Amapa              0.0  01-01-2003\n",
              "505  2004   NaN  Amapa              2.0  01-01-2004\n",
              "506  2005   NaN  Amapa              1.0  01-01-2005\n",
              "507  2006   NaN  Amapa              2.0  01-01-2006\n",
              "508  2007   NaN  Amapa              0.0  01-01-2007\n",
              "509  2008   NaN  Amapa              0.0  01-01-2008\n",
              "510  2009   NaN  Amapa              0.0  01-01-2009\n",
              "511  2010   NaN  Amapa              0.0  01-01-2010\n",
              "512  2011   NaN  Amapa              3.0  01-01-2011\n",
              "513  2012   NaN  Amapa              5.0  01-01-2012\n",
              "514  2013   NaN  Amapa              0.0  01-01-2013"
            ]
          },
          "metadata": {
            "tags": []
          },
          "execution_count": 10
        }
      ]
    },
    {
      "cell_type": "code",
      "metadata": {
        "colab": {
          "base_uri": "https://localhost:8080/",
          "height": 514
        },
        "id": "giGQ2D4hPy95",
        "outputId": "640fc004-3b18-4183-9de8-df9115b10219"
      },
      "source": [
        "df.head(15)"
      ],
      "execution_count": null,
      "outputs": [
        {
          "output_type": "execute_result",
          "data": {
            "text/html": [
              "<div>\n",
              "<style scoped>\n",
              "    .dataframe tbody tr th:only-of-type {\n",
              "        vertical-align: middle;\n",
              "    }\n",
              "\n",
              "    .dataframe tbody tr th {\n",
              "        vertical-align: top;\n",
              "    }\n",
              "\n",
              "    .dataframe thead th {\n",
              "        text-align: right;\n",
              "    }\n",
              "</style>\n",
              "<table border=\"1\" class=\"dataframe\">\n",
              "  <thead>\n",
              "    <tr style=\"text-align: right;\">\n",
              "      <th></th>\n",
              "      <th>year</th>\n",
              "      <th>month</th>\n",
              "      <th>state</th>\n",
              "      <th>number_of_fires</th>\n",
              "      <th>date</th>\n",
              "    </tr>\n",
              "  </thead>\n",
              "  <tbody>\n",
              "    <tr>\n",
              "      <th>0</th>\n",
              "      <td>1998</td>\n",
              "      <td>NaN</td>\n",
              "      <td>Acre</td>\n",
              "      <td>0.0</td>\n",
              "      <td>01-01-1998</td>\n",
              "    </tr>\n",
              "    <tr>\n",
              "      <th>1</th>\n",
              "      <td>1999</td>\n",
              "      <td>NaN</td>\n",
              "      <td>Acre</td>\n",
              "      <td>0.0</td>\n",
              "      <td>01-01-1999</td>\n",
              "    </tr>\n",
              "    <tr>\n",
              "      <th>2</th>\n",
              "      <td>2000</td>\n",
              "      <td>NaN</td>\n",
              "      <td>Acre</td>\n",
              "      <td>0.0</td>\n",
              "      <td>01-01-2000</td>\n",
              "    </tr>\n",
              "    <tr>\n",
              "      <th>3</th>\n",
              "      <td>2001</td>\n",
              "      <td>NaN</td>\n",
              "      <td>Acre</td>\n",
              "      <td>0.0</td>\n",
              "      <td>01-01-2001</td>\n",
              "    </tr>\n",
              "    <tr>\n",
              "      <th>4</th>\n",
              "      <td>2002</td>\n",
              "      <td>NaN</td>\n",
              "      <td>Acre</td>\n",
              "      <td>0.0</td>\n",
              "      <td>01-01-2002</td>\n",
              "    </tr>\n",
              "    <tr>\n",
              "      <th>5</th>\n",
              "      <td>2003</td>\n",
              "      <td>NaN</td>\n",
              "      <td>Acre</td>\n",
              "      <td>10.0</td>\n",
              "      <td>01-01-2003</td>\n",
              "    </tr>\n",
              "    <tr>\n",
              "      <th>6</th>\n",
              "      <td>2004</td>\n",
              "      <td>NaN</td>\n",
              "      <td>Acre</td>\n",
              "      <td>0.0</td>\n",
              "      <td>01-01-2004</td>\n",
              "    </tr>\n",
              "    <tr>\n",
              "      <th>7</th>\n",
              "      <td>2005</td>\n",
              "      <td>NaN</td>\n",
              "      <td>Acre</td>\n",
              "      <td>12.0</td>\n",
              "      <td>01-01-2005</td>\n",
              "    </tr>\n",
              "    <tr>\n",
              "      <th>8</th>\n",
              "      <td>2006</td>\n",
              "      <td>NaN</td>\n",
              "      <td>Acre</td>\n",
              "      <td>4.0</td>\n",
              "      <td>01-01-2006</td>\n",
              "    </tr>\n",
              "    <tr>\n",
              "      <th>9</th>\n",
              "      <td>2007</td>\n",
              "      <td>NaN</td>\n",
              "      <td>Acre</td>\n",
              "      <td>0.0</td>\n",
              "      <td>01-01-2007</td>\n",
              "    </tr>\n",
              "    <tr>\n",
              "      <th>10</th>\n",
              "      <td>2008</td>\n",
              "      <td>NaN</td>\n",
              "      <td>Acre</td>\n",
              "      <td>0.0</td>\n",
              "      <td>01-01-2008</td>\n",
              "    </tr>\n",
              "    <tr>\n",
              "      <th>11</th>\n",
              "      <td>2009</td>\n",
              "      <td>NaN</td>\n",
              "      <td>Acre</td>\n",
              "      <td>0.0</td>\n",
              "      <td>01-01-2009</td>\n",
              "    </tr>\n",
              "    <tr>\n",
              "      <th>12</th>\n",
              "      <td>2010</td>\n",
              "      <td>NaN</td>\n",
              "      <td>Acre</td>\n",
              "      <td>1.0</td>\n",
              "      <td>01-01-2010</td>\n",
              "    </tr>\n",
              "    <tr>\n",
              "      <th>13</th>\n",
              "      <td>2011</td>\n",
              "      <td>NaN</td>\n",
              "      <td>Acre</td>\n",
              "      <td>0.0</td>\n",
              "      <td>01-01-2011</td>\n",
              "    </tr>\n",
              "    <tr>\n",
              "      <th>14</th>\n",
              "      <td>2012</td>\n",
              "      <td>NaN</td>\n",
              "      <td>Acre</td>\n",
              "      <td>0.0</td>\n",
              "      <td>01-01-2012</td>\n",
              "    </tr>\n",
              "  </tbody>\n",
              "</table>\n",
              "</div>"
            ],
            "text/plain": [
              "    year month state  number_of_fires        date\n",
              "0   1998   NaN  Acre              0.0  01-01-1998\n",
              "1   1999   NaN  Acre              0.0  01-01-1999\n",
              "2   2000   NaN  Acre              0.0  01-01-2000\n",
              "3   2001   NaN  Acre              0.0  01-01-2001\n",
              "4   2002   NaN  Acre              0.0  01-01-2002\n",
              "5   2003   NaN  Acre             10.0  01-01-2003\n",
              "6   2004   NaN  Acre              0.0  01-01-2004\n",
              "7   2005   NaN  Acre             12.0  01-01-2005\n",
              "8   2006   NaN  Acre              4.0  01-01-2006\n",
              "9   2007   NaN  Acre              0.0  01-01-2007\n",
              "10  2008   NaN  Acre              0.0  01-01-2008\n",
              "11  2009   NaN  Acre              0.0  01-01-2009\n",
              "12  2010   NaN  Acre              1.0  01-01-2010\n",
              "13  2011   NaN  Acre              0.0  01-01-2011\n",
              "14  2012   NaN  Acre              0.0  01-01-2012"
            ]
          },
          "metadata": {
            "tags": []
          },
          "execution_count": 11
        }
      ]
    },
    {
      "cell_type": "code",
      "metadata": {
        "colab": {
          "base_uri": "https://localhost:8080/"
        },
        "id": "9mqVqwiERKi6",
        "outputId": "7835559a-456e-46d8-be62-cd3fff47cef8"
      },
      "source": [
        "df.info()"
      ],
      "execution_count": null,
      "outputs": [
        {
          "output_type": "stream",
          "text": [
            "<class 'pandas.core.frame.DataFrame'>\n",
            "RangeIndex: 515 entries, 0 to 514\n",
            "Data columns (total 5 columns):\n",
            " #   Column           Non-Null Count  Dtype  \n",
            "---  ------           --------------  -----  \n",
            " 0   year             515 non-null    int64  \n",
            " 1   month            0 non-null      object \n",
            " 2   state            515 non-null    object \n",
            " 3   number_of_fires  515 non-null    float64\n",
            " 4   date             515 non-null    object \n",
            "dtypes: float64(1), int64(1), object(3)\n",
            "memory usage: 20.2+ KB\n"
          ],
          "name": "stdout"
        }
      ]
    },
    {
      "cell_type": "code",
      "metadata": {
        "colab": {
          "base_uri": "https://localhost:8080/",
          "height": 297
        },
        "id": "bNs0d3-yRPUW",
        "outputId": "0633e839-a13d-4634-cecb-47376588c799"
      },
      "source": [
        "df.describe()"
      ],
      "execution_count": null,
      "outputs": [
        {
          "output_type": "execute_result",
          "data": {
            "text/html": [
              "<div>\n",
              "<style scoped>\n",
              "    .dataframe tbody tr th:only-of-type {\n",
              "        vertical-align: middle;\n",
              "    }\n",
              "\n",
              "    .dataframe tbody tr th {\n",
              "        vertical-align: top;\n",
              "    }\n",
              "\n",
              "    .dataframe thead th {\n",
              "        text-align: right;\n",
              "    }\n",
              "</style>\n",
              "<table border=\"1\" class=\"dataframe\">\n",
              "  <thead>\n",
              "    <tr style=\"text-align: right;\">\n",
              "      <th></th>\n",
              "      <th>year</th>\n",
              "      <th>number_of_fires</th>\n",
              "    </tr>\n",
              "  </thead>\n",
              "  <tbody>\n",
              "    <tr>\n",
              "      <th>count</th>\n",
              "      <td>515.000000</td>\n",
              "      <td>515.000000</td>\n",
              "    </tr>\n",
              "    <tr>\n",
              "      <th>mean</th>\n",
              "      <td>2007.419417</td>\n",
              "      <td>121.980641</td>\n",
              "    </tr>\n",
              "    <tr>\n",
              "      <th>std</th>\n",
              "      <td>5.740058</td>\n",
              "      <td>162.876324</td>\n",
              "    </tr>\n",
              "    <tr>\n",
              "      <th>min</th>\n",
              "      <td>1998.000000</td>\n",
              "      <td>0.000000</td>\n",
              "    </tr>\n",
              "    <tr>\n",
              "      <th>25%</th>\n",
              "      <td>2002.000000</td>\n",
              "      <td>2.000000</td>\n",
              "    </tr>\n",
              "    <tr>\n",
              "      <th>50%</th>\n",
              "      <td>2007.000000</td>\n",
              "      <td>40.000000</td>\n",
              "    </tr>\n",
              "    <tr>\n",
              "      <th>75%</th>\n",
              "      <td>2012.000000</td>\n",
              "      <td>211.000000</td>\n",
              "    </tr>\n",
              "    <tr>\n",
              "      <th>max</th>\n",
              "      <td>2017.000000</td>\n",
              "      <td>960.000000</td>\n",
              "    </tr>\n",
              "  </tbody>\n",
              "</table>\n",
              "</div>"
            ],
            "text/plain": [
              "              year  number_of_fires\n",
              "count   515.000000       515.000000\n",
              "mean   2007.419417       121.980641\n",
              "std       5.740058       162.876324\n",
              "min    1998.000000         0.000000\n",
              "25%    2002.000000         2.000000\n",
              "50%    2007.000000        40.000000\n",
              "75%    2012.000000       211.000000\n",
              "max    2017.000000       960.000000"
            ]
          },
          "metadata": {
            "tags": []
          },
          "execution_count": 14
        }
      ]
    },
    {
      "cell_type": "code",
      "metadata": {
        "colab": {
          "base_uri": "https://localhost:8080/"
        },
        "id": "cWdjfqCNRTOD",
        "outputId": "3d4be883-6842-46fd-9858-28459f624c91"
      },
      "source": [
        "df.groupby('state')"
      ],
      "execution_count": null,
      "outputs": [
        {
          "output_type": "execute_result",
          "data": {
            "text/plain": [
              "<pandas.core.groupby.generic.DataFrameGroupBy object at 0x7f4bd0483e10>"
            ]
          },
          "metadata": {
            "tags": []
          },
          "execution_count": 15
        }
      ]
    },
    {
      "cell_type": "code",
      "metadata": {
        "colab": {
          "base_uri": "https://localhost:8080/",
          "height": 419
        },
        "id": "MtSQSNmcRaUp",
        "outputId": "738c35c4-f1d2-495f-bed6-18bf0687adaf"
      },
      "source": [
        "state_groups=df.groupby('state')\n",
        "state_groups.get_group('Acre')"
      ],
      "execution_count": null,
      "outputs": [
        {
          "output_type": "execute_result",
          "data": {
            "text/html": [
              "<div>\n",
              "<style scoped>\n",
              "    .dataframe tbody tr th:only-of-type {\n",
              "        vertical-align: middle;\n",
              "    }\n",
              "\n",
              "    .dataframe tbody tr th {\n",
              "        vertical-align: top;\n",
              "    }\n",
              "\n",
              "    .dataframe thead th {\n",
              "        text-align: right;\n",
              "    }\n",
              "</style>\n",
              "<table border=\"1\" class=\"dataframe\">\n",
              "  <thead>\n",
              "    <tr style=\"text-align: right;\">\n",
              "      <th></th>\n",
              "      <th>year</th>\n",
              "      <th>month</th>\n",
              "      <th>state</th>\n",
              "      <th>number_of_fires</th>\n",
              "      <th>date</th>\n",
              "    </tr>\n",
              "  </thead>\n",
              "  <tbody>\n",
              "    <tr>\n",
              "      <th>0</th>\n",
              "      <td>1998</td>\n",
              "      <td>NaN</td>\n",
              "      <td>Acre</td>\n",
              "      <td>0.0</td>\n",
              "      <td>01-01-1998</td>\n",
              "    </tr>\n",
              "    <tr>\n",
              "      <th>1</th>\n",
              "      <td>1999</td>\n",
              "      <td>NaN</td>\n",
              "      <td>Acre</td>\n",
              "      <td>0.0</td>\n",
              "      <td>01-01-1999</td>\n",
              "    </tr>\n",
              "    <tr>\n",
              "      <th>2</th>\n",
              "      <td>2000</td>\n",
              "      <td>NaN</td>\n",
              "      <td>Acre</td>\n",
              "      <td>0.0</td>\n",
              "      <td>01-01-2000</td>\n",
              "    </tr>\n",
              "    <tr>\n",
              "      <th>3</th>\n",
              "      <td>2001</td>\n",
              "      <td>NaN</td>\n",
              "      <td>Acre</td>\n",
              "      <td>0.0</td>\n",
              "      <td>01-01-2001</td>\n",
              "    </tr>\n",
              "    <tr>\n",
              "      <th>4</th>\n",
              "      <td>2002</td>\n",
              "      <td>NaN</td>\n",
              "      <td>Acre</td>\n",
              "      <td>0.0</td>\n",
              "      <td>01-01-2002</td>\n",
              "    </tr>\n",
              "    <tr>\n",
              "      <th>...</th>\n",
              "      <td>...</td>\n",
              "      <td>...</td>\n",
              "      <td>...</td>\n",
              "      <td>...</td>\n",
              "      <td>...</td>\n",
              "    </tr>\n",
              "    <tr>\n",
              "      <th>234</th>\n",
              "      <td>2012</td>\n",
              "      <td>NaN</td>\n",
              "      <td>Acre</td>\n",
              "      <td>1.0</td>\n",
              "      <td>01-01-2012</td>\n",
              "    </tr>\n",
              "    <tr>\n",
              "      <th>235</th>\n",
              "      <td>2013</td>\n",
              "      <td>NaN</td>\n",
              "      <td>Acre</td>\n",
              "      <td>3.0</td>\n",
              "      <td>01-01-2013</td>\n",
              "    </tr>\n",
              "    <tr>\n",
              "      <th>236</th>\n",
              "      <td>2014</td>\n",
              "      <td>NaN</td>\n",
              "      <td>Acre</td>\n",
              "      <td>6.0</td>\n",
              "      <td>01-01-2014</td>\n",
              "    </tr>\n",
              "    <tr>\n",
              "      <th>237</th>\n",
              "      <td>2015</td>\n",
              "      <td>NaN</td>\n",
              "      <td>Acre</td>\n",
              "      <td>8.0</td>\n",
              "      <td>01-01-2015</td>\n",
              "    </tr>\n",
              "    <tr>\n",
              "      <th>238</th>\n",
              "      <td>2016</td>\n",
              "      <td>NaN</td>\n",
              "      <td>Acre</td>\n",
              "      <td>6.0</td>\n",
              "      <td>01-01-2016</td>\n",
              "    </tr>\n",
              "  </tbody>\n",
              "</table>\n",
              "<p>239 rows × 5 columns</p>\n",
              "</div>"
            ],
            "text/plain": [
              "     year month state  number_of_fires        date\n",
              "0    1998   NaN  Acre              0.0  01-01-1998\n",
              "1    1999   NaN  Acre              0.0  01-01-1999\n",
              "2    2000   NaN  Acre              0.0  01-01-2000\n",
              "3    2001   NaN  Acre              0.0  01-01-2001\n",
              "4    2002   NaN  Acre              0.0  01-01-2002\n",
              "..    ...   ...   ...              ...         ...\n",
              "234  2012   NaN  Acre              1.0  01-01-2012\n",
              "235  2013   NaN  Acre              3.0  01-01-2013\n",
              "236  2014   NaN  Acre              6.0  01-01-2014\n",
              "237  2015   NaN  Acre              8.0  01-01-2015\n",
              "238  2016   NaN  Acre              6.0  01-01-2016\n",
              "\n",
              "[239 rows x 5 columns]"
            ]
          },
          "metadata": {
            "tags": []
          },
          "execution_count": 17
        }
      ]
    },
    {
      "cell_type": "code",
      "metadata": {
        "colab": {
          "base_uri": "https://localhost:8080/"
        },
        "id": "vlWAZYlmRvqM",
        "outputId": "fbb31aba-1fe1-4444-a857-ab42f185af86"
      },
      "source": [
        "state_groups.groups"
      ],
      "execution_count": null,
      "outputs": [
        {
          "output_type": "execute_result",
          "data": {
            "text/plain": [
              "{'Acre': [0, 1, 2, 3, 4, 5, 6, 7, 8, 9, 10, 11, 12, 13, 14, 15, 16, 17, 18, 19, 20, 21, 22, 23, 24, 25, 26, 27, 28, 29, 30, 31, 32, 33, 34, 35, 36, 37, 38, 39, 40, 41, 42, 43, 44, 45, 46, 47, 48, 49, 50, 51, 52, 53, 54, 55, 56, 57, 58, 59, 60, 61, 62, 63, 64, 65, 66, 67, 68, 69, 70, 71, 72, 73, 74, 75, 76, 77, 78, 79, 80, 81, 82, 83, 84, 85, 86, 87, 88, 89, 90, 91, 92, 93, 94, 95, 96, 97, 98, 99, ...], 'Alagoas': [239, 240, 241, 242, 243, 244, 245, 246, 247, 248, 249, 250, 251, 252, 253, 254, 255, 256, 257, 258, 259, 260, 261, 262, 263, 264, 265, 266, 267, 268, 269, 270, 271, 272, 273, 274, 275, 276, 277, 278, 279, 280, 281, 282, 283, 284, 285, 286, 287, 288, 289, 290, 291, 292, 293, 294, 295, 296, 297, 298, 299, 300, 301, 302, 303, 304, 305, 306, 307, 308, 309, 310, 311, 312, 313, 314, 315, 316, 317, 318, 319, 320, 321, 322, 323, 324, 325, 326, 327, 328, 329, 330, 331, 332, 333, 334, 335, 336, 337, 338, ...], 'Amapa': [479, 480, 481, 482, 483, 484, 485, 486, 487, 488, 489, 490, 491, 492, 493, 494, 495, 496, 497, 498, 499, 500, 501, 502, 503, 504, 505, 506, 507, 508, 509, 510, 511, 512, 513, 514]}"
            ]
          },
          "metadata": {
            "tags": []
          },
          "execution_count": 18
        }
      ]
    },
    {
      "cell_type": "code",
      "metadata": {
        "colab": {
          "base_uri": "https://localhost:8080/"
        },
        "id": "WkDVf6YES5IL",
        "outputId": "a5f4017e-964a-4a76-d562-dc11ef72fce5"
      },
      "source": [
        "#sum(),mean(),median(),size()\n",
        "state_groups.size()"
      ],
      "execution_count": null,
      "outputs": [
        {
          "output_type": "execute_result",
          "data": {
            "text/plain": [
              "state\n",
              "Acre       239\n",
              "Alagoas    240\n",
              "Amapa       36\n",
              "dtype: int64"
            ]
          },
          "metadata": {
            "tags": []
          },
          "execution_count": 25
        }
      ]
    },
    {
      "cell_type": "code",
      "metadata": {
        "colab": {
          "base_uri": "https://localhost:8080/",
          "height": 173
        },
        "id": "iF1dAMadTDPz",
        "outputId": "89614d2d-a5ad-4837-c71c-a88e4bc1b804"
      },
      "source": [
        "state_groups.sum()"
      ],
      "execution_count": null,
      "outputs": [
        {
          "output_type": "execute_result",
          "data": {
            "text/html": [
              "<div>\n",
              "<style scoped>\n",
              "    .dataframe tbody tr th:only-of-type {\n",
              "        vertical-align: middle;\n",
              "    }\n",
              "\n",
              "    .dataframe tbody tr th {\n",
              "        vertical-align: top;\n",
              "    }\n",
              "\n",
              "    .dataframe thead th {\n",
              "        text-align: right;\n",
              "    }\n",
              "</style>\n",
              "<table border=\"1\" class=\"dataframe\">\n",
              "  <thead>\n",
              "    <tr style=\"text-align: right;\">\n",
              "      <th></th>\n",
              "      <th>year</th>\n",
              "      <th>number_of_fires</th>\n",
              "    </tr>\n",
              "    <tr>\n",
              "      <th>state</th>\n",
              "      <th></th>\n",
              "      <th></th>\n",
              "    </tr>\n",
              "  </thead>\n",
              "  <tbody>\n",
              "    <tr>\n",
              "      <th>Acre</th>\n",
              "      <td>479783</td>\n",
              "      <td>17971.03</td>\n",
              "    </tr>\n",
              "    <tr>\n",
              "      <th>Alagoas</th>\n",
              "      <td>481800</td>\n",
              "      <td>44554.00</td>\n",
              "    </tr>\n",
              "    <tr>\n",
              "      <th>Amapa</th>\n",
              "      <td>72238</td>\n",
              "      <td>295.00</td>\n",
              "    </tr>\n",
              "  </tbody>\n",
              "</table>\n",
              "</div>"
            ],
            "text/plain": [
              "           year  number_of_fires\n",
              "state                           \n",
              "Acre     479783         17971.03\n",
              "Alagoas  481800         44554.00\n",
              "Amapa     72238           295.00"
            ]
          },
          "metadata": {
            "tags": []
          },
          "execution_count": 20
        }
      ]
    },
    {
      "cell_type": "code",
      "metadata": {
        "colab": {
          "base_uri": "https://localhost:8080/",
          "height": 173
        },
        "id": "YWfUDkw6TOLx",
        "outputId": "ba07a352-10a7-4b81-a6b9-d369dabb3899"
      },
      "source": [
        "state_groups.mean()"
      ],
      "execution_count": null,
      "outputs": [
        {
          "output_type": "execute_result",
          "data": {
            "text/html": [
              "<div>\n",
              "<style scoped>\n",
              "    .dataframe tbody tr th:only-of-type {\n",
              "        vertical-align: middle;\n",
              "    }\n",
              "\n",
              "    .dataframe tbody tr th {\n",
              "        vertical-align: top;\n",
              "    }\n",
              "\n",
              "    .dataframe thead th {\n",
              "        text-align: right;\n",
              "    }\n",
              "</style>\n",
              "<table border=\"1\" class=\"dataframe\">\n",
              "  <thead>\n",
              "    <tr style=\"text-align: right;\">\n",
              "      <th></th>\n",
              "      <th>year</th>\n",
              "      <th>number_of_fires</th>\n",
              "    </tr>\n",
              "    <tr>\n",
              "      <th>state</th>\n",
              "      <th></th>\n",
              "      <th></th>\n",
              "    </tr>\n",
              "  </thead>\n",
              "  <tbody>\n",
              "    <tr>\n",
              "      <th>Acre</th>\n",
              "      <td>2007.460251</td>\n",
              "      <td>75.192594</td>\n",
              "    </tr>\n",
              "    <tr>\n",
              "      <th>Alagoas</th>\n",
              "      <td>2007.500000</td>\n",
              "      <td>185.641667</td>\n",
              "    </tr>\n",
              "    <tr>\n",
              "      <th>Amapa</th>\n",
              "      <td>2006.611111</td>\n",
              "      <td>8.194444</td>\n",
              "    </tr>\n",
              "  </tbody>\n",
              "</table>\n",
              "</div>"
            ],
            "text/plain": [
              "                year  number_of_fires\n",
              "state                                \n",
              "Acre     2007.460251        75.192594\n",
              "Alagoas  2007.500000       185.641667\n",
              "Amapa    2006.611111         8.194444"
            ]
          },
          "metadata": {
            "tags": []
          },
          "execution_count": 21
        }
      ]
    },
    {
      "cell_type": "code",
      "metadata": {
        "colab": {
          "base_uri": "https://localhost:8080/",
          "height": 173
        },
        "id": "oDT10MxTTRZy",
        "outputId": "40b05b60-d98b-476f-c5fe-1518788f3681"
      },
      "source": [
        "\n",
        "state_groups.median()"
      ],
      "execution_count": null,
      "outputs": [
        {
          "output_type": "execute_result",
          "data": {
            "text/html": [
              "<div>\n",
              "<style scoped>\n",
              "    .dataframe tbody tr th:only-of-type {\n",
              "        vertical-align: middle;\n",
              "    }\n",
              "\n",
              "    .dataframe tbody tr th {\n",
              "        vertical-align: top;\n",
              "    }\n",
              "\n",
              "    .dataframe thead th {\n",
              "        text-align: right;\n",
              "    }\n",
              "</style>\n",
              "<table border=\"1\" class=\"dataframe\">\n",
              "  <thead>\n",
              "    <tr style=\"text-align: right;\">\n",
              "      <th></th>\n",
              "      <th>year</th>\n",
              "      <th>number_of_fires</th>\n",
              "    </tr>\n",
              "    <tr>\n",
              "      <th>state</th>\n",
              "      <th></th>\n",
              "      <th></th>\n",
              "    </tr>\n",
              "  </thead>\n",
              "  <tbody>\n",
              "    <tr>\n",
              "      <th>Acre</th>\n",
              "      <td>2007.0</td>\n",
              "      <td>2.08</td>\n",
              "    </tr>\n",
              "    <tr>\n",
              "      <th>Alagoas</th>\n",
              "      <td>2007.5</td>\n",
              "      <td>175.00</td>\n",
              "    </tr>\n",
              "    <tr>\n",
              "      <th>Amapa</th>\n",
              "      <td>2006.5</td>\n",
              "      <td>2.00</td>\n",
              "    </tr>\n",
              "  </tbody>\n",
              "</table>\n",
              "</div>"
            ],
            "text/plain": [
              "           year  number_of_fires\n",
              "state                           \n",
              "Acre     2007.0             2.08\n",
              "Alagoas  2007.5           175.00\n",
              "Amapa    2006.5             2.00"
            ]
          },
          "metadata": {
            "tags": []
          },
          "execution_count": 22
        }
      ]
    },
    {
      "cell_type": "code",
      "metadata": {
        "colab": {
          "base_uri": "https://localhost:8080/"
        },
        "id": "qqdi2nozTabc",
        "outputId": "84c17261-8fe3-44c9-e36c-7d8aad75faa8"
      },
      "source": [
        "df.groupby('state')['number_of_fires'].mean()"
      ],
      "execution_count": null,
      "outputs": [
        {
          "output_type": "execute_result",
          "data": {
            "text/plain": [
              "state\n",
              "Acre        75.192594\n",
              "Alagoas    185.641667\n",
              "Amapa        8.194444\n",
              "Name: number_of_fires, dtype: float64"
            ]
          },
          "metadata": {
            "tags": []
          },
          "execution_count": 24
        }
      ]
    },
    {
      "cell_type": "code",
      "metadata": {
        "colab": {
          "base_uri": "https://localhost:8080/"
        },
        "id": "guLpbSsuTrYE",
        "outputId": "2190a058-8524-4c21-a726-3430a468eae9"
      },
      "source": [
        "df.groupby('state')['number_of_fires'].sum()"
      ],
      "execution_count": null,
      "outputs": [
        {
          "output_type": "execute_result",
          "data": {
            "text/plain": [
              "state\n",
              "Acre       17971.03\n",
              "Alagoas    44554.00\n",
              "Amapa        295.00\n",
              "Name: number_of_fires, dtype: float64"
            ]
          },
          "metadata": {
            "tags": []
          },
          "execution_count": 26
        }
      ]
    },
    {
      "cell_type": "code",
      "metadata": {
        "colab": {
          "base_uri": "https://localhost:8080/"
        },
        "id": "dsA-P5VLUblP",
        "outputId": "0583d37c-d2d9-4da9-be11-77b865389dd3"
      },
      "source": [
        "df.groupby('state')['number_of_fires'].min()"
      ],
      "execution_count": null,
      "outputs": [
        {
          "output_type": "execute_result",
          "data": {
            "text/plain": [
              "state\n",
              "Acre       0.0\n",
              "Alagoas    0.0\n",
              "Amapa      0.0\n",
              "Name: number_of_fires, dtype: float64"
            ]
          },
          "metadata": {
            "tags": []
          },
          "execution_count": 27
        }
      ]
    },
    {
      "cell_type": "code",
      "metadata": {
        "colab": {
          "base_uri": "https://localhost:8080/"
        },
        "id": "hJMHUOTJUdlD",
        "outputId": "d6345fb7-04cb-4b63-9388-3bcd19290e25"
      },
      "source": [
        "df.groupby('state')['number_of_fires'].max()"
      ],
      "execution_count": null,
      "outputs": [
        {
          "output_type": "execute_result",
          "data": {
            "text/plain": [
              "state\n",
              "Acre       960.0\n",
              "Alagoas    414.0\n",
              "Amapa      109.0\n",
              "Name: number_of_fires, dtype: float64"
            ]
          },
          "metadata": {
            "tags": []
          },
          "execution_count": 28
        }
      ]
    },
    {
      "cell_type": "code",
      "metadata": {
        "colab": {
          "base_uri": "https://localhost:8080/"
        },
        "id": "Qc7DmCQgUhg2",
        "outputId": "232c7892-1a58-4c86-f617-fc2e0057af9b"
      },
      "source": [
        "df.groupby('state')['number_of_fires'].sum()"
      ],
      "execution_count": null,
      "outputs": [
        {
          "output_type": "execute_result",
          "data": {
            "text/plain": [
              "state\n",
              "Acre       17971.03\n",
              "Alagoas    44554.00\n",
              "Amapa        295.00\n",
              "Name: number_of_fires, dtype: float64"
            ]
          },
          "metadata": {
            "tags": []
          },
          "execution_count": 31
        }
      ]
    },
    {
      "cell_type": "code",
      "metadata": {
        "id": "5GDy7FhiUj7P"
      },
      "source": [
        ""
      ],
      "execution_count": null,
      "outputs": []
    }
  ]
}