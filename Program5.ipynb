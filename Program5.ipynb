{
  "nbformat": 4,
  "nbformat_minor": 0,
  "metadata": {
    "colab": {
      "name": "Program5.ipynb",
      "provenance": []
    },
    "kernelspec": {
      "name": "python3",
      "display_name": "Python 3"
    }
  },
  "cells": [
    {
      "cell_type": "code",
      "metadata": {
        "colab": {
          "base_uri": "https://localhost:8080/",
          "height": 359
        },
        "id": "7-WlgzRb0HoE",
        "outputId": "167d9ace-874b-4d8a-86a7-a67366f2658a"
      },
      "source": [
        "import pandas as pd\n",
        "file_name=\"/content/amazon_fires (3).csv\"\n",
        "df=pd.read_csv(file_name,encoding=\"ISO-8859-1\")\n",
        "df.head(10)"
      ],
      "execution_count": null,
      "outputs": [
        {
          "output_type": "execute_result",
          "data": {
            "text/html": [
              "<div>\n",
              "<style scoped>\n",
              "    .dataframe tbody tr th:only-of-type {\n",
              "        vertical-align: middle;\n",
              "    }\n",
              "\n",
              "    .dataframe tbody tr th {\n",
              "        vertical-align: top;\n",
              "    }\n",
              "\n",
              "    .dataframe thead th {\n",
              "        text-align: right;\n",
              "    }\n",
              "</style>\n",
              "<table border=\"1\" class=\"dataframe\">\n",
              "  <thead>\n",
              "    <tr style=\"text-align: right;\">\n",
              "      <th></th>\n",
              "      <th>ano</th>\n",
              "      <th>mes</th>\n",
              "      <th>estado</th>\n",
              "      <th>numero</th>\n",
              "      <th>encontro</th>\n",
              "    </tr>\n",
              "  </thead>\n",
              "  <tbody>\n",
              "    <tr>\n",
              "      <th>0</th>\n",
              "      <td>1998</td>\n",
              "      <td>Janeiro</td>\n",
              "      <td>Acre</td>\n",
              "      <td>0 Fires</td>\n",
              "      <td>01-01-1998</td>\n",
              "    </tr>\n",
              "    <tr>\n",
              "      <th>1</th>\n",
              "      <td>1999</td>\n",
              "      <td>Janeiro</td>\n",
              "      <td>Acre</td>\n",
              "      <td>0 Fires</td>\n",
              "      <td>01-01-1999</td>\n",
              "    </tr>\n",
              "    <tr>\n",
              "      <th>2</th>\n",
              "      <td>2000</td>\n",
              "      <td>Janeiro</td>\n",
              "      <td>Acre</td>\n",
              "      <td>0 Fires</td>\n",
              "      <td>01-01-2000</td>\n",
              "    </tr>\n",
              "    <tr>\n",
              "      <th>3</th>\n",
              "      <td>2001</td>\n",
              "      <td>Janeiro</td>\n",
              "      <td>Acre</td>\n",
              "      <td>0 Fires</td>\n",
              "      <td>01-01-2001</td>\n",
              "    </tr>\n",
              "    <tr>\n",
              "      <th>4</th>\n",
              "      <td>2002</td>\n",
              "      <td>Janeiro</td>\n",
              "      <td>Acre</td>\n",
              "      <td>0 Fires</td>\n",
              "      <td>01-01-2002</td>\n",
              "    </tr>\n",
              "    <tr>\n",
              "      <th>5</th>\n",
              "      <td>2003</td>\n",
              "      <td>Janeiro</td>\n",
              "      <td>Acre</td>\n",
              "      <td>10 Fires</td>\n",
              "      <td>01-01-2003</td>\n",
              "    </tr>\n",
              "    <tr>\n",
              "      <th>6</th>\n",
              "      <td>2004</td>\n",
              "      <td>Janeiro</td>\n",
              "      <td>Acre</td>\n",
              "      <td>0 Fires</td>\n",
              "      <td>01-01-2004</td>\n",
              "    </tr>\n",
              "    <tr>\n",
              "      <th>7</th>\n",
              "      <td>2005</td>\n",
              "      <td>Janeiro</td>\n",
              "      <td>Acre</td>\n",
              "      <td>12 Fires</td>\n",
              "      <td>01-01-2005</td>\n",
              "    </tr>\n",
              "    <tr>\n",
              "      <th>8</th>\n",
              "      <td>2006</td>\n",
              "      <td>Janeiro</td>\n",
              "      <td>Acre</td>\n",
              "      <td>4 Fires</td>\n",
              "      <td>01-01-2006</td>\n",
              "    </tr>\n",
              "    <tr>\n",
              "      <th>9</th>\n",
              "      <td>2007</td>\n",
              "      <td>Janeiro</td>\n",
              "      <td>Acre</td>\n",
              "      <td>0 Fires</td>\n",
              "      <td>01-01-2007</td>\n",
              "    </tr>\n",
              "  </tbody>\n",
              "</table>\n",
              "</div>"
            ],
            "text/plain": [
              "    ano      mes estado    numero    encontro\n",
              "0  1998  Janeiro   Acre   0 Fires  01-01-1998\n",
              "1  1999  Janeiro   Acre   0 Fires  01-01-1999\n",
              "2  2000  Janeiro   Acre   0 Fires  01-01-2000\n",
              "3  2001  Janeiro   Acre   0 Fires  01-01-2001\n",
              "4  2002  Janeiro   Acre   0 Fires  01-01-2002\n",
              "5  2003  Janeiro   Acre  10 Fires  01-01-2003\n",
              "6  2004  Janeiro   Acre   0 Fires  01-01-2004\n",
              "7  2005  Janeiro   Acre  12 Fires  01-01-2005\n",
              "8  2006  Janeiro   Acre   4 Fires  01-01-2006\n",
              "9  2007  Janeiro   Acre   0 Fires  01-01-2007"
            ]
          },
          "metadata": {
            "tags": []
          },
          "execution_count": 2
        }
      ]
    },
    {
      "cell_type": "code",
      "metadata": {
        "id": "ES67Kd0-1X7K",
        "colab": {
          "base_uri": "https://localhost:8080/",
          "height": 359
        },
        "outputId": "0384d5fc-071e-4924-82b6-0f69ec0eb83a"
      },
      "source": [
        "df.tail(10)"
      ],
      "execution_count": null,
      "outputs": [
        {
          "output_type": "execute_result",
          "data": {
            "text/html": [
              "<div>\n",
              "<style scoped>\n",
              "    .dataframe tbody tr th:only-of-type {\n",
              "        vertical-align: middle;\n",
              "    }\n",
              "\n",
              "    .dataframe tbody tr th {\n",
              "        vertical-align: top;\n",
              "    }\n",
              "\n",
              "    .dataframe thead th {\n",
              "        text-align: right;\n",
              "    }\n",
              "</style>\n",
              "<table border=\"1\" class=\"dataframe\">\n",
              "  <thead>\n",
              "    <tr style=\"text-align: right;\">\n",
              "      <th></th>\n",
              "      <th>ano</th>\n",
              "      <th>mes</th>\n",
              "      <th>estado</th>\n",
              "      <th>numero</th>\n",
              "      <th>encontro</th>\n",
              "    </tr>\n",
              "  </thead>\n",
              "  <tbody>\n",
              "    <tr>\n",
              "      <th>505</th>\n",
              "      <td>2004</td>\n",
              "      <td>Fevereiro</td>\n",
              "      <td>Amapa</td>\n",
              "      <td>2</td>\n",
              "      <td>01-01-2004</td>\n",
              "    </tr>\n",
              "    <tr>\n",
              "      <th>506</th>\n",
              "      <td>2005</td>\n",
              "      <td>Fevereiro</td>\n",
              "      <td>Amapa</td>\n",
              "      <td>1</td>\n",
              "      <td>01-01-2005</td>\n",
              "    </tr>\n",
              "    <tr>\n",
              "      <th>507</th>\n",
              "      <td>2006</td>\n",
              "      <td>Fevereiro</td>\n",
              "      <td>Amapa</td>\n",
              "      <td>2</td>\n",
              "      <td>01-01-2006</td>\n",
              "    </tr>\n",
              "    <tr>\n",
              "      <th>508</th>\n",
              "      <td>2007</td>\n",
              "      <td>Fevereiro</td>\n",
              "      <td>Amapa</td>\n",
              "      <td>0</td>\n",
              "      <td>01-01-2007</td>\n",
              "    </tr>\n",
              "    <tr>\n",
              "      <th>509</th>\n",
              "      <td>2008</td>\n",
              "      <td>Fevereiro</td>\n",
              "      <td>Amapa</td>\n",
              "      <td>0</td>\n",
              "      <td>01-01-2008</td>\n",
              "    </tr>\n",
              "    <tr>\n",
              "      <th>510</th>\n",
              "      <td>2009</td>\n",
              "      <td>Fevereiro</td>\n",
              "      <td>Amapa</td>\n",
              "      <td>0</td>\n",
              "      <td>01-01-2009</td>\n",
              "    </tr>\n",
              "    <tr>\n",
              "      <th>511</th>\n",
              "      <td>2010</td>\n",
              "      <td>Fevereiro</td>\n",
              "      <td>Amapa</td>\n",
              "      <td>0</td>\n",
              "      <td>01-01-2010</td>\n",
              "    </tr>\n",
              "    <tr>\n",
              "      <th>512</th>\n",
              "      <td>2011</td>\n",
              "      <td>Fevereiro</td>\n",
              "      <td>Amapa</td>\n",
              "      <td>3</td>\n",
              "      <td>01-01-2011</td>\n",
              "    </tr>\n",
              "    <tr>\n",
              "      <th>513</th>\n",
              "      <td>2012</td>\n",
              "      <td>Fevereiro</td>\n",
              "      <td>Amapa</td>\n",
              "      <td>5</td>\n",
              "      <td>01-01-2012</td>\n",
              "    </tr>\n",
              "    <tr>\n",
              "      <th>514</th>\n",
              "      <td>2013</td>\n",
              "      <td>Fevereiro</td>\n",
              "      <td>Amapa</td>\n",
              "      <td>0</td>\n",
              "      <td>01-01-2013</td>\n",
              "    </tr>\n",
              "  </tbody>\n",
              "</table>\n",
              "</div>"
            ],
            "text/plain": [
              "      ano        mes estado numero    encontro\n",
              "505  2004  Fevereiro  Amapa      2  01-01-2004\n",
              "506  2005  Fevereiro  Amapa      1  01-01-2005\n",
              "507  2006  Fevereiro  Amapa      2  01-01-2006\n",
              "508  2007  Fevereiro  Amapa      0  01-01-2007\n",
              "509  2008  Fevereiro  Amapa      0  01-01-2008\n",
              "510  2009  Fevereiro  Amapa      0  01-01-2009\n",
              "511  2010  Fevereiro  Amapa      0  01-01-2010\n",
              "512  2011  Fevereiro  Amapa      3  01-01-2011\n",
              "513  2012  Fevereiro  Amapa      5  01-01-2012\n",
              "514  2013  Fevereiro  Amapa      0  01-01-2013"
            ]
          },
          "metadata": {
            "tags": []
          },
          "execution_count": 3
        }
      ]
    },
    {
      "cell_type": "code",
      "metadata": {
        "id": "MV2-SZFO61b-",
        "colab": {
          "base_uri": "https://localhost:8080/"
        },
        "outputId": "666fbfef-0059-4c25-bf57-01888f50fdaf"
      },
      "source": [
        "df['estado'].unique()"
      ],
      "execution_count": null,
      "outputs": [
        {
          "output_type": "execute_result",
          "data": {
            "text/plain": [
              "array(['Acre', 'alagoas', 'Amapa'], dtype=object)"
            ]
          },
          "metadata": {
            "tags": []
          },
          "execution_count": 4
        }
      ]
    },
    {
      "cell_type": "code",
      "metadata": {
        "id": "Lizo3ftNAtMl"
      },
      "source": [
        ""
      ],
      "execution_count": null,
      "outputs": []
    },
    {
      "cell_type": "markdown",
      "metadata": {
        "id": "w2CDofU3A-4E"
      },
      "source": [
        "Rename Columns"
      ]
    },
    {
      "cell_type": "code",
      "metadata": {
        "colab": {
          "base_uri": "https://localhost:8080/",
          "height": 204
        },
        "id": "i7SBYPGXBA_2",
        "outputId": "43bc007c-5d52-41ca-b891-c2bf10e2a42e"
      },
      "source": [
        "new_order=[4,1,0,2,3]\n",
        "df=df[df.columns[new_order]]\n",
        "df.head()"
      ],
      "execution_count": null,
      "outputs": [
        {
          "output_type": "execute_result",
          "data": {
            "text/html": [
              "<div>\n",
              "<style scoped>\n",
              "    .dataframe tbody tr th:only-of-type {\n",
              "        vertical-align: middle;\n",
              "    }\n",
              "\n",
              "    .dataframe tbody tr th {\n",
              "        vertical-align: top;\n",
              "    }\n",
              "\n",
              "    .dataframe thead th {\n",
              "        text-align: right;\n",
              "    }\n",
              "</style>\n",
              "<table border=\"1\" class=\"dataframe\">\n",
              "  <thead>\n",
              "    <tr style=\"text-align: right;\">\n",
              "      <th></th>\n",
              "      <th>encontro</th>\n",
              "      <th>mes</th>\n",
              "      <th>ano</th>\n",
              "      <th>estado</th>\n",
              "      <th>numero</th>\n",
              "    </tr>\n",
              "  </thead>\n",
              "  <tbody>\n",
              "    <tr>\n",
              "      <th>0</th>\n",
              "      <td>01-01-1998</td>\n",
              "      <td>Janeiro</td>\n",
              "      <td>1998</td>\n",
              "      <td>Acre</td>\n",
              "      <td>0 Fires</td>\n",
              "    </tr>\n",
              "    <tr>\n",
              "      <th>1</th>\n",
              "      <td>01-01-1999</td>\n",
              "      <td>Janeiro</td>\n",
              "      <td>1999</td>\n",
              "      <td>Acre</td>\n",
              "      <td>0 Fires</td>\n",
              "    </tr>\n",
              "    <tr>\n",
              "      <th>2</th>\n",
              "      <td>01-01-2000</td>\n",
              "      <td>Janeiro</td>\n",
              "      <td>2000</td>\n",
              "      <td>Acre</td>\n",
              "      <td>0 Fires</td>\n",
              "    </tr>\n",
              "    <tr>\n",
              "      <th>3</th>\n",
              "      <td>01-01-2001</td>\n",
              "      <td>Janeiro</td>\n",
              "      <td>2001</td>\n",
              "      <td>Acre</td>\n",
              "      <td>0 Fires</td>\n",
              "    </tr>\n",
              "    <tr>\n",
              "      <th>4</th>\n",
              "      <td>01-01-2002</td>\n",
              "      <td>Janeiro</td>\n",
              "      <td>2002</td>\n",
              "      <td>Acre</td>\n",
              "      <td>0 Fires</td>\n",
              "    </tr>\n",
              "  </tbody>\n",
              "</table>\n",
              "</div>"
            ],
            "text/plain": [
              "     encontro      mes   ano estado   numero\n",
              "0  01-01-1998  Janeiro  1998   Acre  0 Fires\n",
              "1  01-01-1999  Janeiro  1999   Acre  0 Fires\n",
              "2  01-01-2000  Janeiro  2000   Acre  0 Fires\n",
              "3  01-01-2001  Janeiro  2001   Acre  0 Fires\n",
              "4  01-01-2002  Janeiro  2002   Acre  0 Fires"
            ]
          },
          "metadata": {
            "tags": []
          },
          "execution_count": 5
        }
      ]
    },
    {
      "cell_type": "code",
      "metadata": {
        "colab": {
          "base_uri": "https://localhost:8080/",
          "height": 204
        },
        "id": "RtTbsLJFB4jR",
        "outputId": "ad051901-43c4-4cb8-9291-3ca8cbb1f561"
      },
      "source": [
        "df.tail()"
      ],
      "execution_count": null,
      "outputs": [
        {
          "output_type": "execute_result",
          "data": {
            "text/html": [
              "<div>\n",
              "<style scoped>\n",
              "    .dataframe tbody tr th:only-of-type {\n",
              "        vertical-align: middle;\n",
              "    }\n",
              "\n",
              "    .dataframe tbody tr th {\n",
              "        vertical-align: top;\n",
              "    }\n",
              "\n",
              "    .dataframe thead th {\n",
              "        text-align: right;\n",
              "    }\n",
              "</style>\n",
              "<table border=\"1\" class=\"dataframe\">\n",
              "  <thead>\n",
              "    <tr style=\"text-align: right;\">\n",
              "      <th></th>\n",
              "      <th>encontro</th>\n",
              "      <th>mes</th>\n",
              "      <th>ano</th>\n",
              "      <th>estado</th>\n",
              "      <th>numero</th>\n",
              "    </tr>\n",
              "  </thead>\n",
              "  <tbody>\n",
              "    <tr>\n",
              "      <th>510</th>\n",
              "      <td>01-01-2009</td>\n",
              "      <td>Fevereiro</td>\n",
              "      <td>2009</td>\n",
              "      <td>Amapa</td>\n",
              "      <td>0</td>\n",
              "    </tr>\n",
              "    <tr>\n",
              "      <th>511</th>\n",
              "      <td>01-01-2010</td>\n",
              "      <td>Fevereiro</td>\n",
              "      <td>2010</td>\n",
              "      <td>Amapa</td>\n",
              "      <td>0</td>\n",
              "    </tr>\n",
              "    <tr>\n",
              "      <th>512</th>\n",
              "      <td>01-01-2011</td>\n",
              "      <td>Fevereiro</td>\n",
              "      <td>2011</td>\n",
              "      <td>Amapa</td>\n",
              "      <td>3</td>\n",
              "    </tr>\n",
              "    <tr>\n",
              "      <th>513</th>\n",
              "      <td>01-01-2012</td>\n",
              "      <td>Fevereiro</td>\n",
              "      <td>2012</td>\n",
              "      <td>Amapa</td>\n",
              "      <td>5</td>\n",
              "    </tr>\n",
              "    <tr>\n",
              "      <th>514</th>\n",
              "      <td>01-01-2013</td>\n",
              "      <td>Fevereiro</td>\n",
              "      <td>2013</td>\n",
              "      <td>Amapa</td>\n",
              "      <td>0</td>\n",
              "    </tr>\n",
              "  </tbody>\n",
              "</table>\n",
              "</div>"
            ],
            "text/plain": [
              "       encontro        mes   ano estado numero\n",
              "510  01-01-2009  Fevereiro  2009  Amapa      0\n",
              "511  01-01-2010  Fevereiro  2010  Amapa      0\n",
              "512  01-01-2011  Fevereiro  2011  Amapa      3\n",
              "513  01-01-2012  Fevereiro  2012  Amapa      5\n",
              "514  01-01-2013  Fevereiro  2013  Amapa      0"
            ]
          },
          "metadata": {
            "tags": []
          },
          "execution_count": 6
        }
      ]
    },
    {
      "cell_type": "code",
      "metadata": {
        "id": "5dioGSqcCNJO"
      },
      "source": [
        ""
      ],
      "execution_count": null,
      "outputs": []
    },
    {
      "cell_type": "markdown",
      "metadata": {
        "id": "CInCs2SpCdj_"
      },
      "source": [
        "Determine if  the columns contain the numerical data"
      ]
    },
    {
      "cell_type": "code",
      "metadata": {
        "colab": {
          "base_uri": "https://localhost:8080/"
        },
        "id": "ziuXUEcyCmsH",
        "outputId": "827059d5-60b7-4e32-887c-4c9001c9b8d2"
      },
      "source": [
        "df['number_of_fires'].str.isnumeric()"
      ],
      "execution_count": null,
      "outputs": [
        {
          "output_type": "execute_result",
          "data": {
            "text/plain": [
              "0      False\n",
              "1      False\n",
              "2      False\n",
              "3      False\n",
              "4      False\n",
              "       ...  \n",
              "510     True\n",
              "511     True\n",
              "512     True\n",
              "513     True\n",
              "514     True\n",
              "Name: number_of_fires, Length: 515, dtype: object"
            ]
          },
          "metadata": {
            "tags": []
          },
          "execution_count": 11
        }
      ]
    },
    {
      "cell_type": "code",
      "metadata": {
        "colab": {
          "base_uri": "https://localhost:8080/",
          "height": 204
        },
        "id": "zxhxOnLrCwi_",
        "outputId": "a77bacbe-3be7-45f9-dff3-c62a72e14368"
      },
      "source": [
        "file_name=\"/content/amazon_fires (3).csv\"\n",
        "df=pd.read_csv(file_name,encoding=\"ISO-8859-1\")\n",
        "new_columns={'ano':'year',\n",
        "             'estado':'state',\n",
        "             'mes':'month',\n",
        "             'numero':'number_of_fires',\n",
        "             'encontro':'date'}\n",
        "df.rename(columns=new_columns,inplace=True)\n",
        "df['number_of_fires']=df['number_of_fires'].str.strip(\"Fires\")\n",
        "df_copy=df.copy()\n",
        "df.head()"
      ],
      "execution_count": null,
      "outputs": [
        {
          "output_type": "execute_result",
          "data": {
            "text/html": [
              "<div>\n",
              "<style scoped>\n",
              "    .dataframe tbody tr th:only-of-type {\n",
              "        vertical-align: middle;\n",
              "    }\n",
              "\n",
              "    .dataframe tbody tr th {\n",
              "        vertical-align: top;\n",
              "    }\n",
              "\n",
              "    .dataframe thead th {\n",
              "        text-align: right;\n",
              "    }\n",
              "</style>\n",
              "<table border=\"1\" class=\"dataframe\">\n",
              "  <thead>\n",
              "    <tr style=\"text-align: right;\">\n",
              "      <th></th>\n",
              "      <th>year</th>\n",
              "      <th>month</th>\n",
              "      <th>state</th>\n",
              "      <th>number_of_fires</th>\n",
              "      <th>date</th>\n",
              "    </tr>\n",
              "  </thead>\n",
              "  <tbody>\n",
              "    <tr>\n",
              "      <th>0</th>\n",
              "      <td>1998</td>\n",
              "      <td>Janeiro</td>\n",
              "      <td>Acre</td>\n",
              "      <td>0</td>\n",
              "      <td>01-01-1998</td>\n",
              "    </tr>\n",
              "    <tr>\n",
              "      <th>1</th>\n",
              "      <td>1999</td>\n",
              "      <td>Janeiro</td>\n",
              "      <td>Acre</td>\n",
              "      <td>0</td>\n",
              "      <td>01-01-1999</td>\n",
              "    </tr>\n",
              "    <tr>\n",
              "      <th>2</th>\n",
              "      <td>2000</td>\n",
              "      <td>Janeiro</td>\n",
              "      <td>Acre</td>\n",
              "      <td>0</td>\n",
              "      <td>01-01-2000</td>\n",
              "    </tr>\n",
              "    <tr>\n",
              "      <th>3</th>\n",
              "      <td>2001</td>\n",
              "      <td>Janeiro</td>\n",
              "      <td>Acre</td>\n",
              "      <td>0</td>\n",
              "      <td>01-01-2001</td>\n",
              "    </tr>\n",
              "    <tr>\n",
              "      <th>4</th>\n",
              "      <td>2002</td>\n",
              "      <td>Janeiro</td>\n",
              "      <td>Acre</td>\n",
              "      <td>0</td>\n",
              "      <td>01-01-2002</td>\n",
              "    </tr>\n",
              "  </tbody>\n",
              "</table>\n",
              "</div>"
            ],
            "text/plain": [
              "   year    month state number_of_fires        date\n",
              "0  1998  Janeiro  Acre              0   01-01-1998\n",
              "1  1999  Janeiro  Acre              0   01-01-1999\n",
              "2  2000  Janeiro  Acre              0   01-01-2000\n",
              "3  2001  Janeiro  Acre              0   01-01-2001\n",
              "4  2002  Janeiro  Acre              0   01-01-2002"
            ]
          },
          "metadata": {
            "tags": []
          },
          "execution_count": 27
        }
      ]
    },
    {
      "cell_type": "code",
      "metadata": {
        "colab": {
          "base_uri": "https://localhost:8080/"
        },
        "id": "q-u5aTbZHbC4",
        "outputId": "e38801cd-87e6-49e1-98f8-28c6fd02870c"
      },
      "source": [
        "df.isnull().sum()"
      ],
      "execution_count": null,
      "outputs": [
        {
          "output_type": "execute_result",
          "data": {
            "text/plain": [
              "year               0\n",
              "mes                0\n",
              "state              0\n",
              "number_of_fires    5\n",
              "date               0\n",
              "dtype: int64"
            ]
          },
          "metadata": {
            "tags": []
          },
          "execution_count": 12
        }
      ]
    },
    {
      "cell_type": "code",
      "metadata": {
        "colab": {
          "base_uri": "https://localhost:8080/",
          "height": 204
        },
        "id": "KBZMVq7QHuks",
        "outputId": "d0e7519c-af00-4ec8-abc0-b755d5163c10"
      },
      "source": [
        "df=df.dropna()\n",
        "df=df.reset_index()\n",
        "df.head()"
      ],
      "execution_count": null,
      "outputs": [
        {
          "output_type": "execute_result",
          "data": {
            "text/html": [
              "<div>\n",
              "<style scoped>\n",
              "    .dataframe tbody tr th:only-of-type {\n",
              "        vertical-align: middle;\n",
              "    }\n",
              "\n",
              "    .dataframe tbody tr th {\n",
              "        vertical-align: top;\n",
              "    }\n",
              "\n",
              "    .dataframe thead th {\n",
              "        text-align: right;\n",
              "    }\n",
              "</style>\n",
              "<table border=\"1\" class=\"dataframe\">\n",
              "  <thead>\n",
              "    <tr style=\"text-align: right;\">\n",
              "      <th></th>\n",
              "      <th>index</th>\n",
              "      <th>year</th>\n",
              "      <th>mes</th>\n",
              "      <th>state</th>\n",
              "      <th>number_of_fires</th>\n",
              "      <th>date</th>\n",
              "    </tr>\n",
              "  </thead>\n",
              "  <tbody>\n",
              "    <tr>\n",
              "      <th>0</th>\n",
              "      <td>0</td>\n",
              "      <td>1998</td>\n",
              "      <td>Janeiro</td>\n",
              "      <td>Acre</td>\n",
              "      <td>0</td>\n",
              "      <td>01-01-1998</td>\n",
              "    </tr>\n",
              "    <tr>\n",
              "      <th>1</th>\n",
              "      <td>1</td>\n",
              "      <td>1999</td>\n",
              "      <td>Janeiro</td>\n",
              "      <td>Acre</td>\n",
              "      <td>0</td>\n",
              "      <td>01-01-1999</td>\n",
              "    </tr>\n",
              "    <tr>\n",
              "      <th>2</th>\n",
              "      <td>2</td>\n",
              "      <td>2000</td>\n",
              "      <td>Janeiro</td>\n",
              "      <td>Acre</td>\n",
              "      <td>0</td>\n",
              "      <td>01-01-2000</td>\n",
              "    </tr>\n",
              "    <tr>\n",
              "      <th>3</th>\n",
              "      <td>3</td>\n",
              "      <td>2001</td>\n",
              "      <td>Janeiro</td>\n",
              "      <td>Acre</td>\n",
              "      <td>0</td>\n",
              "      <td>01-01-2001</td>\n",
              "    </tr>\n",
              "    <tr>\n",
              "      <th>4</th>\n",
              "      <td>4</td>\n",
              "      <td>2002</td>\n",
              "      <td>Janeiro</td>\n",
              "      <td>Acre</td>\n",
              "      <td>0</td>\n",
              "      <td>01-01-2002</td>\n",
              "    </tr>\n",
              "  </tbody>\n",
              "</table>\n",
              "</div>"
            ],
            "text/plain": [
              "   index  year      mes state number_of_fires        date\n",
              "0      0  1998  Janeiro  Acre              0   01-01-1998\n",
              "1      1  1999  Janeiro  Acre              0   01-01-1999\n",
              "2      2  2000  Janeiro  Acre              0   01-01-2000\n",
              "3      3  2001  Janeiro  Acre              0   01-01-2001\n",
              "4      4  2002  Janeiro  Acre              0   01-01-2002"
            ]
          },
          "metadata": {
            "tags": []
          },
          "execution_count": 13
        }
      ]
    },
    {
      "cell_type": "code",
      "metadata": {
        "colab": {
          "base_uri": "https://localhost:8080/"
        },
        "id": "JSz57uW2H7zk",
        "outputId": "dc351738-2d8b-4eed-9712-e0c20840e3cf"
      },
      "source": [
        "df.isnull().sum()"
      ],
      "execution_count": null,
      "outputs": [
        {
          "output_type": "execute_result",
          "data": {
            "text/plain": [
              "index              0\n",
              "year               0\n",
              "mes                0\n",
              "state              0\n",
              "number_of_fires    0\n",
              "date               0\n",
              "dtype: int64"
            ]
          },
          "metadata": {
            "tags": []
          },
          "execution_count": 14
        }
      ]
    },
    {
      "cell_type": "code",
      "metadata": {
        "colab": {
          "base_uri": "https://localhost:8080/",
          "height": 204
        },
        "id": "u9Xo_5ONH-3g",
        "outputId": "f0c2ecfa-d931-4303-aee6-6e6ca34b3777"
      },
      "source": [
        "df.tail()"
      ],
      "execution_count": null,
      "outputs": [
        {
          "output_type": "execute_result",
          "data": {
            "text/html": [
              "<div>\n",
              "<style scoped>\n",
              "    .dataframe tbody tr th:only-of-type {\n",
              "        vertical-align: middle;\n",
              "    }\n",
              "\n",
              "    .dataframe tbody tr th {\n",
              "        vertical-align: top;\n",
              "    }\n",
              "\n",
              "    .dataframe thead th {\n",
              "        text-align: right;\n",
              "    }\n",
              "</style>\n",
              "<table border=\"1\" class=\"dataframe\">\n",
              "  <thead>\n",
              "    <tr style=\"text-align: right;\">\n",
              "      <th></th>\n",
              "      <th>index</th>\n",
              "      <th>year</th>\n",
              "      <th>mes</th>\n",
              "      <th>state</th>\n",
              "      <th>number_of_fires</th>\n",
              "      <th>date</th>\n",
              "    </tr>\n",
              "  </thead>\n",
              "  <tbody>\n",
              "    <tr>\n",
              "      <th>505</th>\n",
              "      <td>510</td>\n",
              "      <td>2009</td>\n",
              "      <td>Fevereiro</td>\n",
              "      <td>Amapa</td>\n",
              "      <td>0</td>\n",
              "      <td>01-01-2009</td>\n",
              "    </tr>\n",
              "    <tr>\n",
              "      <th>506</th>\n",
              "      <td>511</td>\n",
              "      <td>2010</td>\n",
              "      <td>Fevereiro</td>\n",
              "      <td>Amapa</td>\n",
              "      <td>0</td>\n",
              "      <td>01-01-2010</td>\n",
              "    </tr>\n",
              "    <tr>\n",
              "      <th>507</th>\n",
              "      <td>512</td>\n",
              "      <td>2011</td>\n",
              "      <td>Fevereiro</td>\n",
              "      <td>Amapa</td>\n",
              "      <td>3</td>\n",
              "      <td>01-01-2011</td>\n",
              "    </tr>\n",
              "    <tr>\n",
              "      <th>508</th>\n",
              "      <td>513</td>\n",
              "      <td>2012</td>\n",
              "      <td>Fevereiro</td>\n",
              "      <td>Amapa</td>\n",
              "      <td>5</td>\n",
              "      <td>01-01-2012</td>\n",
              "    </tr>\n",
              "    <tr>\n",
              "      <th>509</th>\n",
              "      <td>514</td>\n",
              "      <td>2013</td>\n",
              "      <td>Fevereiro</td>\n",
              "      <td>Amapa</td>\n",
              "      <td>0</td>\n",
              "      <td>01-01-2013</td>\n",
              "    </tr>\n",
              "  </tbody>\n",
              "</table>\n",
              "</div>"
            ],
            "text/plain": [
              "     index  year        mes  state number_of_fires        date\n",
              "505    510  2009  Fevereiro  Amapa               0  01-01-2009\n",
              "506    511  2010  Fevereiro  Amapa               0  01-01-2010\n",
              "507    512  2011  Fevereiro  Amapa               3  01-01-2011\n",
              "508    513  2012  Fevereiro  Amapa               5  01-01-2012\n",
              "509    514  2013  Fevereiro  Amapa               0  01-01-2013"
            ]
          },
          "metadata": {
            "tags": []
          },
          "execution_count": 15
        }
      ]
    },
    {
      "cell_type": "code",
      "metadata": {
        "colab": {
          "base_uri": "https://localhost:8080/"
        },
        "id": "JsGcVOwjIAyF",
        "outputId": "7a60f778-a7f1-4e41-9dd9-0988c5d34b93"
      },
      "source": [
        "df.info()"
      ],
      "execution_count": null,
      "outputs": [
        {
          "output_type": "stream",
          "text": [
            "<class 'pandas.core.frame.DataFrame'>\n",
            "RangeIndex: 510 entries, 0 to 509\n",
            "Data columns (total 6 columns):\n",
            " #   Column           Non-Null Count  Dtype \n",
            "---  ------           --------------  ----- \n",
            " 0   index            510 non-null    int64 \n",
            " 1   year             510 non-null    int64 \n",
            " 2   mes              510 non-null    object\n",
            " 3   state            510 non-null    object\n",
            " 4   number_of_fires  510 non-null    object\n",
            " 5   date             510 non-null    object\n",
            "dtypes: int64(2), object(4)\n",
            "memory usage: 24.0+ KB\n"
          ],
          "name": "stdout"
        }
      ]
    },
    {
      "cell_type": "code",
      "metadata": {
        "colab": {
          "base_uri": "https://localhost:8080/",
          "height": 204
        },
        "id": "qw89mvf9JfxY",
        "outputId": "df762d85-8a58-4eef-df5e-f8ffb805ccfe"
      },
      "source": [
        "df=df.drop(['month','date'],axis=1)\n",
        "df.head()"
      ],
      "execution_count": null,
      "outputs": [
        {
          "output_type": "execute_result",
          "data": {
            "text/html": [
              "<div>\n",
              "<style scoped>\n",
              "    .dataframe tbody tr th:only-of-type {\n",
              "        vertical-align: middle;\n",
              "    }\n",
              "\n",
              "    .dataframe tbody tr th {\n",
              "        vertical-align: top;\n",
              "    }\n",
              "\n",
              "    .dataframe thead th {\n",
              "        text-align: right;\n",
              "    }\n",
              "</style>\n",
              "<table border=\"1\" class=\"dataframe\">\n",
              "  <thead>\n",
              "    <tr style=\"text-align: right;\">\n",
              "      <th></th>\n",
              "      <th>year</th>\n",
              "      <th>state</th>\n",
              "      <th>number_of_fires</th>\n",
              "    </tr>\n",
              "  </thead>\n",
              "  <tbody>\n",
              "    <tr>\n",
              "      <th>0</th>\n",
              "      <td>1998</td>\n",
              "      <td>Acre</td>\n",
              "      <td>0</td>\n",
              "    </tr>\n",
              "    <tr>\n",
              "      <th>1</th>\n",
              "      <td>1999</td>\n",
              "      <td>Acre</td>\n",
              "      <td>0</td>\n",
              "    </tr>\n",
              "    <tr>\n",
              "      <th>2</th>\n",
              "      <td>2000</td>\n",
              "      <td>Acre</td>\n",
              "      <td>0</td>\n",
              "    </tr>\n",
              "    <tr>\n",
              "      <th>3</th>\n",
              "      <td>2001</td>\n",
              "      <td>Acre</td>\n",
              "      <td>0</td>\n",
              "    </tr>\n",
              "    <tr>\n",
              "      <th>4</th>\n",
              "      <td>2002</td>\n",
              "      <td>Acre</td>\n",
              "      <td>0</td>\n",
              "    </tr>\n",
              "  </tbody>\n",
              "</table>\n",
              "</div>"
            ],
            "text/plain": [
              "   year state number_of_fires\n",
              "0  1998  Acre              0 \n",
              "1  1999  Acre              0 \n",
              "2  2000  Acre              0 \n",
              "3  2001  Acre              0 \n",
              "4  2002  Acre              0 "
            ]
          },
          "metadata": {
            "tags": []
          },
          "execution_count": 28
        }
      ]
    },
    {
      "cell_type": "code",
      "metadata": {
        "colab": {
          "base_uri": "https://localhost:8080/",
          "height": 204
        },
        "id": "oTOdcss8KC1W",
        "outputId": "42687905-ce48-4ca9-d386-6bdbd87e4368"
      },
      "source": [
        "df=df.drop(df.index[1:4])\n",
        "df.head()\n"
      ],
      "execution_count": null,
      "outputs": [
        {
          "output_type": "execute_result",
          "data": {
            "text/html": [
              "<div>\n",
              "<style scoped>\n",
              "    .dataframe tbody tr th:only-of-type {\n",
              "        vertical-align: middle;\n",
              "    }\n",
              "\n",
              "    .dataframe tbody tr th {\n",
              "        vertical-align: top;\n",
              "    }\n",
              "\n",
              "    .dataframe thead th {\n",
              "        text-align: right;\n",
              "    }\n",
              "</style>\n",
              "<table border=\"1\" class=\"dataframe\">\n",
              "  <thead>\n",
              "    <tr style=\"text-align: right;\">\n",
              "      <th></th>\n",
              "      <th>level_0</th>\n",
              "      <th>index</th>\n",
              "      <th>year</th>\n",
              "      <th>state</th>\n",
              "      <th>number_of_fires</th>\n",
              "    </tr>\n",
              "  </thead>\n",
              "  <tbody>\n",
              "    <tr>\n",
              "      <th>0</th>\n",
              "      <td>1</td>\n",
              "      <td>2</td>\n",
              "      <td>2000</td>\n",
              "      <td>Acre</td>\n",
              "      <td>0</td>\n",
              "    </tr>\n",
              "    <tr>\n",
              "      <th>8</th>\n",
              "      <td>9</td>\n",
              "      <td>10</td>\n",
              "      <td>2008</td>\n",
              "      <td>Acre</td>\n",
              "      <td>0</td>\n",
              "    </tr>\n",
              "    <tr>\n",
              "      <th>9</th>\n",
              "      <td>10</td>\n",
              "      <td>11</td>\n",
              "      <td>2009</td>\n",
              "      <td>Acre</td>\n",
              "      <td>0</td>\n",
              "    </tr>\n",
              "    <tr>\n",
              "      <th>10</th>\n",
              "      <td>11</td>\n",
              "      <td>12</td>\n",
              "      <td>2010</td>\n",
              "      <td>Acre</td>\n",
              "      <td>1</td>\n",
              "    </tr>\n",
              "    <tr>\n",
              "      <th>11</th>\n",
              "      <td>12</td>\n",
              "      <td>13</td>\n",
              "      <td>2011</td>\n",
              "      <td>Acre</td>\n",
              "      <td>0</td>\n",
              "    </tr>\n",
              "  </tbody>\n",
              "</table>\n",
              "</div>"
            ],
            "text/plain": [
              "    level_0  index  year state number_of_fires\n",
              "0         1      2  2000  Acre              0 \n",
              "8         9     10  2008  Acre              0 \n",
              "9        10     11  2009  Acre              0 \n",
              "10       11     12  2010  Acre              1 \n",
              "11       12     13  2011  Acre              0 "
            ]
          },
          "metadata": {
            "tags": []
          },
          "execution_count": 34
        }
      ]
    },
    {
      "cell_type": "code",
      "metadata": {
        "id": "stT-WIMgLVAB"
      },
      "source": [
        ""
      ],
      "execution_count": null,
      "outputs": []
    }
  ]
}