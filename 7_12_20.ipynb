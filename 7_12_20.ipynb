{
  "nbformat": 4,
  "nbformat_minor": 0,
  "metadata": {
    "colab": {
      "name": "7-12-20.ipynb",
      "provenance": [],
      "collapsed_sections": []
    },
    "kernelspec": {
      "name": "python3",
      "display_name": "Python 3"
    }
  },
  "cells": [
    {
      "cell_type": "markdown",
      "metadata": {
        "id": "3pQZCbTZgC9n"
      },
      "source": [
        "**Getting started with Numpy**"
      ]
    },
    {
      "cell_type": "code",
      "metadata": {
        "colab": {
          "base_uri": "https://localhost:8080/"
        },
        "id": "K456iBrkf12c",
        "outputId": "198d597a-3f2e-43cf-e232-393ec68fd0ab"
      },
      "source": [
        "import numpy as np\n",
        "arr = np.array([1,2,3,4,5])\n",
        "print(arr)"
      ],
      "execution_count": null,
      "outputs": [
        {
          "output_type": "stream",
          "text": [
            "[1 2 3 4 5]\n"
          ],
          "name": "stdout"
        }
      ]
    },
    {
      "cell_type": "code",
      "metadata": {
        "colab": {
          "base_uri": "https://localhost:8080/"
        },
        "id": "HkBa5O-VgYrz",
        "outputId": "983116bf-6ad8-4f20-d751-94c739df184d"
      },
      "source": [
        "import numpy \n",
        "arr = numpy.array([1,2,3,4,5])\n",
        "print(arr)"
      ],
      "execution_count": null,
      "outputs": [
        {
          "output_type": "stream",
          "text": [
            "[1 2 3 4 5]\n"
          ],
          "name": "stdout"
        }
      ]
    },
    {
      "cell_type": "code",
      "metadata": {
        "colab": {
          "base_uri": "https://localhost:8080/"
        },
        "id": "dtU2CSwggi7u",
        "outputId": "cd4fbbd5-4371-40a2-a65d-36ac360673db"
      },
      "source": [
        "import numpy as np\n",
        "print(np.__version__)\n"
      ],
      "execution_count": null,
      "outputs": [
        {
          "output_type": "stream",
          "text": [
            "1.18.5\n"
          ],
          "name": "stdout"
        }
      ]
    },
    {
      "cell_type": "markdown",
      "metadata": {
        "id": "VPB3bgrPg-Bd"
      },
      "source": [
        "Creating a Numpy and array objects"
      ]
    },
    {
      "cell_type": "code",
      "metadata": {
        "colab": {
          "base_uri": "https://localhost:8080/"
        },
        "id": "Fy3a-s3UgxDM",
        "outputId": "44bc62b3-495e-4462-f5fb-914a1b7aebe5"
      },
      "source": [
        "import numpy as np\n",
        "arr = np.array([1,2,3,4,5])\n",
        "print(arr)\n",
        "print(type(arr))"
      ],
      "execution_count": null,
      "outputs": [
        {
          "output_type": "stream",
          "text": [
            "[1 2 3 4 5]\n",
            "<class 'numpy.ndarray'>\n"
          ],
          "name": "stdout"
        }
      ]
    },
    {
      "cell_type": "code",
      "metadata": {
        "colab": {
          "base_uri": "https://localhost:8080/"
        },
        "id": "fNyuVb7UhJC1",
        "outputId": "e800759d-4da5-4ef7-ab9f-7eb4171b9386"
      },
      "source": [
        "import numpy as np\n",
        "arr = np.array([345])\n",
        "print(arr)\n",
        "print(type(arr))"
      ],
      "execution_count": null,
      "outputs": [
        {
          "output_type": "stream",
          "text": [
            "[345]\n",
            "<class 'numpy.ndarray'>\n"
          ],
          "name": "stdout"
        }
      ]
    },
    {
      "cell_type": "code",
      "metadata": {
        "colab": {
          "base_uri": "https://localhost:8080/"
        },
        "id": "SSmYH1pihQbB",
        "outputId": "0912e9c7-5ba1-456d-f513-305834ae9cb2"
      },
      "source": [
        "import numpy as np\n",
        "arr = np.array([[1,2,3,4,5],[6,7,8,9,10]])\n",
        "print(arr)\n",
        "print(type(arr))"
      ],
      "execution_count": null,
      "outputs": [
        {
          "output_type": "stream",
          "text": [
            "[[ 1  2  3  4  5]\n",
            " [ 6  7  8  9 10]]\n",
            "<class 'numpy.ndarray'>\n"
          ],
          "name": "stdout"
        }
      ]
    },
    {
      "cell_type": "code",
      "metadata": {
        "colab": {
          "base_uri": "https://localhost:8080/"
        },
        "id": "RIGSma82hY6X",
        "outputId": "b2684b24-8999-40f4-f51d-b31925e09b18"
      },
      "source": [
        "import numpy as np\n",
        "arr = np.array([[[1,2,3],[4,5,6]],[[7,8,9],[10,11,12]]])\n",
        "print(arr)\n",
        "print(type(arr))"
      ],
      "execution_count": null,
      "outputs": [
        {
          "output_type": "stream",
          "text": [
            "[[[ 1  2  3]\n",
            "  [ 4  5  6]]\n",
            "\n",
            " [[ 7  8  9]\n",
            "  [10 11 12]]]\n",
            "<class 'numpy.ndarray'>\n"
          ],
          "name": "stdout"
        }
      ]
    },
    {
      "cell_type": "code",
      "metadata": {
        "colab": {
          "base_uri": "https://localhost:8080/"
        },
        "id": "EEA9HEkahzDd",
        "outputId": "655e2b5d-b4f6-42c6-8bb5-3bcd1f8cff03"
      },
      "source": [
        "import numpy as np\n",
        "a=np.array(456)\n",
        "b=np.array([1,2,3,4,5,6,7])\n",
        "c=np.array([[1,2,3,4,5],[6,7,8,9,10]])\n",
        "d=np.array([[[1,2,3],[4,5,6]],[[6,7,8],[9,10,11]]])\n",
        "print(a.ndim)\n",
        "print(b.ndim)\n",
        "print(c.ndim)\n",
        "print(d.ndim)"
      ],
      "execution_count": null,
      "outputs": [
        {
          "output_type": "stream",
          "text": [
            "0\n",
            "1\n",
            "2\n",
            "3\n"
          ],
          "name": "stdout"
        }
      ]
    },
    {
      "cell_type": "code",
      "metadata": {
        "colab": {
          "base_uri": "https://localhost:8080/"
        },
        "id": "2ZdTXeMBm9v6",
        "outputId": "3f558abe-75cb-48f6-bc92-65bcd4564df3"
      },
      "source": [
        "import numpy as np\n",
        "arr = np.array([1,2,3,4,5,6,7])\n",
        "print(arr[0])"
      ],
      "execution_count": null,
      "outputs": [
        {
          "output_type": "stream",
          "text": [
            "1\n"
          ],
          "name": "stdout"
        }
      ]
    },
    {
      "cell_type": "code",
      "metadata": {
        "colab": {
          "base_uri": "https://localhost:8080/"
        },
        "id": "g2JzYyKAncY6",
        "outputId": "862d1765-6c1f-468f-ea76-633c78af8b13"
      },
      "source": [
        "import numpy as np\n",
        "arr = np.array([1,2,3,4,5,6,7])\n",
        "print(arr[2])"
      ],
      "execution_count": null,
      "outputs": [
        {
          "output_type": "stream",
          "text": [
            "3\n"
          ],
          "name": "stdout"
        }
      ]
    },
    {
      "cell_type": "code",
      "metadata": {
        "colab": {
          "base_uri": "https://localhost:8080/"
        },
        "id": "QwHd2WgJnhcx",
        "outputId": "f091ff44-b0cc-45e5-e473-b47838d6bcc2"
      },
      "source": [
        "import numpy as np\n",
        "arr = np.array([1,2,3,4,5,6,7])\n",
        "print(arr[2]+arr[4])"
      ],
      "execution_count": null,
      "outputs": [
        {
          "output_type": "stream",
          "text": [
            "8\n"
          ],
          "name": "stdout"
        }
      ]
    },
    {
      "cell_type": "code",
      "metadata": {
        "colab": {
          "base_uri": "https://localhost:8080/"
        },
        "id": "FMXAEcSXnmUS",
        "outputId": "52b7638f-e94d-4baa-9151-4eec7bb88938"
      },
      "source": [
        "import numpy as np\n",
        "arr = np.array([[1,2,3,4,5],[6,7,8,9,10]])\n",
        "print('print 5th element and 2nd dim :- ',arr[1,4])"
      ],
      "execution_count": null,
      "outputs": [
        {
          "output_type": "stream",
          "text": [
            "print 5th element and 2nd dim :-  10\n"
          ],
          "name": "stdout"
        }
      ]
    },
    {
      "cell_type": "code",
      "metadata": {
        "colab": {
          "base_uri": "https://localhost:8080/"
        },
        "id": "QsL9gCsqn7gI",
        "outputId": "d8a6249c-f255-47b2-e27a-a8f053a5b596"
      },
      "source": [
        "import numpy as np\n",
        "arr = np.array([[[1,2,3],[4,5,6]],[[7,8,9],[10,11,12]]])\n",
        "print(arr)\n",
        "print('Print the third element of second array of the first array:',arr[0,1,2])"
      ],
      "execution_count": null,
      "outputs": [
        {
          "output_type": "stream",
          "text": [
            "[[[ 1  2  3]\n",
            "  [ 4  5  6]]\n",
            "\n",
            " [[ 7  8  9]\n",
            "  [10 11 12]]]\n",
            "Print the third element of second array of the first array: 6\n"
          ],
          "name": "stdout"
        }
      ]
    },
    {
      "cell_type": "code",
      "metadata": {
        "colab": {
          "base_uri": "https://localhost:8080/"
        },
        "id": "GgBTiLDuoXtS",
        "outputId": "77d11e64-a4a0-4958-9876-c3308d54cfe8"
      },
      "source": [
        "import numpy as np\n",
        "c=np.array([1,2,3,4,5,6,7,8,9,10])\n",
        "print(c[1:6])"
      ],
      "execution_count": null,
      "outputs": [
        {
          "output_type": "stream",
          "text": [
            "[2 3 4 5 6]\n"
          ],
          "name": "stdout"
        }
      ]
    },
    {
      "cell_type": "code",
      "metadata": {
        "colab": {
          "base_uri": "https://localhost:8080/"
        },
        "id": "ymPb9nSWo0yS",
        "outputId": "e23d4b1e-becb-4562-f4ca-1f2603136e04"
      },
      "source": [
        "import numpy as np\n",
        "c=np.array([1,2,3,4,5,6,7,8,9,10])\n",
        "print(c[1:5])"
      ],
      "execution_count": null,
      "outputs": [
        {
          "output_type": "stream",
          "text": [
            "[2 3 4 5]\n"
          ],
          "name": "stdout"
        }
      ]
    },
    {
      "cell_type": "code",
      "metadata": {
        "colab": {
          "base_uri": "https://localhost:8080/"
        },
        "id": "Q-TFN7lQpAj2",
        "outputId": "52d5fdc9-2f7b-4611-dc20-a8814a8e06ac"
      },
      "source": [
        "import numpy as np\n",
        "c=np.array([1,2,3,4,5,6,7,8,9,10,11,12,13,14,15,16,17,18,19,20])\n",
        "print(c[5:])"
      ],
      "execution_count": null,
      "outputs": [
        {
          "output_type": "stream",
          "text": [
            "[ 6  7  8  9 10 11 12 13 14 15 16 17 18 19 20]\n"
          ],
          "name": "stdout"
        }
      ]
    },
    {
      "cell_type": "code",
      "metadata": {
        "colab": {
          "base_uri": "https://localhost:8080/"
        },
        "id": "Cucbsbc1pNjI",
        "outputId": "41763dcc-14d4-49c7-b826-8b4d6234c884"
      },
      "source": [
        "import numpy as np\n",
        "c=np.array([1,2,3,4,5,6,7,8,9,10,11,12,13,14,15,16,17,18,19,20])\n",
        "print(c[:3])"
      ],
      "execution_count": null,
      "outputs": [
        {
          "output_type": "stream",
          "text": [
            "[1 2 3]\n"
          ],
          "name": "stdout"
        }
      ]
    },
    {
      "cell_type": "code",
      "metadata": {
        "colab": {
          "base_uri": "https://localhost:8080/"
        },
        "id": "SmEw-uGspVOn",
        "outputId": "c8cc317e-d987-4009-984c-2d928f4bd2d6"
      },
      "source": [
        "import numpy as np\n",
        "c=np.array([1,2,3,4,5,6,7,8,9,10,11,12,13,14,15,16,17,18,19,20])\n",
        "print(c[:-6])"
      ],
      "execution_count": null,
      "outputs": [
        {
          "output_type": "stream",
          "text": [
            "[ 1  2  3  4  5  6  7  8  9 10 11 12 13 14]\n"
          ],
          "name": "stdout"
        }
      ]
    },
    {
      "cell_type": "code",
      "metadata": {
        "colab": {
          "base_uri": "https://localhost:8080/"
        },
        "id": "JSwMWBgqpZv9",
        "outputId": "21bd6c5c-d082-4b54-bace-ed6cf673fe1c"
      },
      "source": [
        "import numpy as np\n",
        "c=np.array([1,2,3,4,5,6,7,8,9,10,11,12,13,14,15,16,17,18,19,20])\n",
        "print(c.dtype)"
      ],
      "execution_count": null,
      "outputs": [
        {
          "output_type": "stream",
          "text": [
            "int64\n"
          ],
          "name": "stdout"
        }
      ]
    },
    {
      "cell_type": "code",
      "metadata": {
        "colab": {
          "base_uri": "https://localhost:8080/"
        },
        "id": "vSZbok9fphs8",
        "outputId": "a0a8bd52-3a09-4079-9f87-3552eb5a82d4"
      },
      "source": [
        "import numpy as np\n",
        "arr = np.array([[1,2,3,4,5],[6,7,8,9,10]])\n",
        "print(arr[0:2,1:4])"
      ],
      "execution_count": null,
      "outputs": [
        {
          "output_type": "stream",
          "text": [
            "[[2 3 4]\n",
            " [7 8 9]]\n"
          ],
          "name": "stdout"
        }
      ]
    },
    {
      "cell_type": "code",
      "metadata": {
        "colab": {
          "base_uri": "https://localhost:8080/"
        },
        "id": "bDpK8ajzpri_",
        "outputId": "11271411-7e59-4595-965d-61c562da25e1"
      },
      "source": [
        "import numpy as np\n",
        "c=np.array(['Madhu','Sai','Mansi','Payal','Ashwini',\"Rahul\"])\n",
        "print(c.dtype)"
      ],
      "execution_count": null,
      "outputs": [
        {
          "output_type": "stream",
          "text": [
            "<U7\n"
          ],
          "name": "stdout"
        }
      ]
    },
    {
      "cell_type": "code",
      "metadata": {
        "colab": {
          "base_uri": "https://localhost:8080/"
        },
        "id": "zeb8eAgDqAkp",
        "outputId": "ff12ebbd-8266-46bd-e589-ed82859e616f"
      },
      "source": [
        "import numpy as np\n",
        "c=np.array([1.23,2.34,3.44,4.454])\n",
        "newarray=c.astype(int)\n",
        "print(newarray)\n",
        "print(newarray.dtype)"
      ],
      "execution_count": null,
      "outputs": [
        {
          "output_type": "stream",
          "text": [
            "[1 2 3 4]\n",
            "int64\n"
          ],
          "name": "stdout"
        }
      ]
    },
    {
      "cell_type": "code",
      "metadata": {
        "colab": {
          "base_uri": "https://localhost:8080/"
        },
        "id": "cbw0wvMXqdWN",
        "outputId": "cfa2d06a-9693-4cc7-f70c-55fc1947ab64"
      },
      "source": [
        "import numpy as np\n",
        "c=np.array([1.23,2.34,3.44,4.454])\n",
        "newarray=c.astype(bool)\n",
        "print(newarray)\n",
        "print(newarray.dtype)"
      ],
      "execution_count": null,
      "outputs": [
        {
          "output_type": "stream",
          "text": [
            "[ True  True  True  True]\n",
            "bool\n"
          ],
          "name": "stdout"
        }
      ]
    },
    {
      "cell_type": "code",
      "metadata": {
        "colab": {
          "base_uri": "https://localhost:8080/"
        },
        "id": "4rwdPK4iqlTV",
        "outputId": "a6777e56-9143-42d9-d505-88825b2010ff"
      },
      "source": [
        "import numpy as np\n",
        "c=np.array([1.23,2.34,3.44,4.454])\n",
        "x=c.copy()\n",
        "print(x)\n",
        "print(x.dtype)"
      ],
      "execution_count": null,
      "outputs": [
        {
          "output_type": "stream",
          "text": [
            "[1.23  2.34  3.44  4.454]\n",
            "float64\n"
          ],
          "name": "stdout"
        }
      ]
    },
    {
      "cell_type": "code",
      "metadata": {
        "colab": {
          "base_uri": "https://localhost:8080/"
        },
        "id": "5IapLyHYqwyi",
        "outputId": "ed7c726c-4164-4505-9295-f18ee5683c15"
      },
      "source": [
        "import numpy as np\n",
        "c=np.array([1.23,2.34,3.44,4.454])\n",
        "x=c.copy()\n",
        "print(x)\n",
        "print(c)\n",
        "print(x.dtype)"
      ],
      "execution_count": null,
      "outputs": [
        {
          "output_type": "stream",
          "text": [
            "[1.23  2.34  3.44  4.454]\n",
            "[1.23  2.34  3.44  4.454]\n",
            "float64\n"
          ],
          "name": "stdout"
        }
      ]
    },
    {
      "cell_type": "code",
      "metadata": {
        "colab": {
          "base_uri": "https://localhost:8080/"
        },
        "id": "S0M5Q7rCq4Se",
        "outputId": "4a28b131-9fe9-499e-9522-3ae204eed81a"
      },
      "source": [
        "import numpy as np\n",
        "c=np.array([1.23,2.34,3.44,4.454])\n",
        "x=c.view()\n",
        "x[0]=34\n",
        "print(x)\n",
        "print(c)\n",
        "print(x.dtype)"
      ],
      "execution_count": null,
      "outputs": [
        {
          "output_type": "stream",
          "text": [
            "[34.     2.34   3.44   4.454]\n",
            "[34.     2.34   3.44   4.454]\n",
            "float64\n"
          ],
          "name": "stdout"
        }
      ]
    },
    {
      "cell_type": "code",
      "metadata": {
        "colab": {
          "base_uri": "https://localhost:8080/"
        },
        "id": "v380T-IPrCy_",
        "outputId": "c3a3cf1a-8ce0-4b56-acd2-ff933f6fc8da"
      },
      "source": [
        "import numpy as np\n",
        "c=np.array([1.23,2.34,3.44,4.454])\n",
        "x=c.view()#print the value of the base attribute to check if any ownsits data or note\n",
        "y=c.copy()\n",
        "print(x.base)\n",
        "print(y.base)"
      ],
      "execution_count": null,
      "outputs": [
        {
          "output_type": "stream",
          "text": [
            "[1.23  2.34  3.44  4.454]\n",
            "None\n"
          ],
          "name": "stdout"
        }
      ]
    },
    {
      "cell_type": "code",
      "metadata": {
        "colab": {
          "base_uri": "https://localhost:8080/"
        },
        "id": "_cl4--jEscvA",
        "outputId": "72130c7e-8fda-4d1f-e29c-be2ddc5cb2e9"
      },
      "source": [
        "import numpy as np\n",
        "c=np.array([1.23,2.34,3.44,4.454])\n",
        "c=np.array([[1,2,3,4,5],[6,7,8,9,10]])\n",
        "print(c.shape)\n",
        "print(y.shape)"
      ],
      "execution_count": null,
      "outputs": [
        {
          "output_type": "stream",
          "text": [
            "(2, 5)\n",
            "(4,)\n"
          ],
          "name": "stdout"
        }
      ]
    },
    {
      "cell_type": "code",
      "metadata": {
        "colab": {
          "base_uri": "https://localhost:8080/"
        },
        "id": "aH_UfcTMsvSf",
        "outputId": "bdbc30a5-8c6a-4665-a048-8200d409dffe"
      },
      "source": [
        "import numpy as np\n",
        "c=np.array([1,2,3,4,5,6,7,8,9,10,11,12])\n",
        "newarr=c.reshape(4,3)\n",
        "print(newarr)"
      ],
      "execution_count": null,
      "outputs": [
        {
          "output_type": "stream",
          "text": [
            "[[ 1  2  3]\n",
            " [ 4  5  6]\n",
            " [ 7  8  9]\n",
            " [10 11 12]]\n"
          ],
          "name": "stdout"
        }
      ]
    },
    {
      "cell_type": "code",
      "metadata": {
        "colab": {
          "base_uri": "https://localhost:8080/"
        },
        "id": "_KO3rrQgs_Cg",
        "outputId": "8e5dbccb-9e31-429c-b219-16d6fe2360af"
      },
      "source": [
        "import numpy as np\n",
        "c=np.array([1,2,3,4,5,6,7,8,9,10,11,12])\n",
        "newarr=c.reshape(2,3,2)\n",
        "print(newarr)"
      ],
      "execution_count": null,
      "outputs": [
        {
          "output_type": "stream",
          "text": [
            "[[[ 1  2]\n",
            "  [ 3  4]\n",
            "  [ 5  6]]\n",
            "\n",
            " [[ 7  8]\n",
            "  [ 9 10]\n",
            "  [11 12]]]\n"
          ],
          "name": "stdout"
        }
      ]
    },
    {
      "cell_type": "markdown",
      "metadata": {
        "id": "hYngbovA1Deg"
      },
      "source": [
        "**08-12-20**"
      ]
    },
    {
      "cell_type": "code",
      "metadata": {
        "colab": {
          "base_uri": "https://localhost:8080/"
        },
        "id": "GM1vVSn_zbOh",
        "outputId": "06637fc5-7c86-4829-cdbb-1204a6120e8d"
      },
      "source": [
        "import numpy as np\n",
        "arr=np.array([[1,2,3],[4,5,6]])\n",
        "newarr=arr.reshape(-1)\n",
        "print(arr)\n",
        "print(newarr)"
      ],
      "execution_count": null,
      "outputs": [
        {
          "output_type": "stream",
          "text": [
            "[[1 2 3]\n",
            " [4 5 6]]\n",
            "[1 2 3 4 5 6]\n"
          ],
          "name": "stdout"
        }
      ]
    },
    {
      "cell_type": "code",
      "metadata": {
        "id": "bQYVX5ngtHcs",
        "colab": {
          "base_uri": "https://localhost:8080/"
        },
        "outputId": "78655cb2-3054-41f4-f4e6-23d3e85b2a8d"
      },
      "source": [
        "import numpy as np\n",
        "arr1 = np.array([1,2,3])\n",
        "arr2=np.array([4,5,6])\n",
        "newarr = np.concatenate((arr1,arr2))\n",
        "print(arr1)\n",
        "print(arr2)\n",
        "print(newarr)"
      ],
      "execution_count": null,
      "outputs": [
        {
          "output_type": "stream",
          "text": [
            "[1 2 3]\n",
            "[4 5 6]\n",
            "[1 2 3 4 5 6]\n"
          ],
          "name": "stdout"
        }
      ]
    },
    {
      "cell_type": "code",
      "metadata": {
        "colab": {
          "base_uri": "https://localhost:8080/"
        },
        "id": "MphEkpJhv4QG",
        "outputId": "8e810ff3-ec6a-43bb-c975-937f6fcbfc88"
      },
      "source": [
        "import numpy as np\n",
        "arr1 = np.array([1,2,3])\n",
        "arr2=np.array([4,5,6])\n",
        "newarr = np.stack((arr1,arr2),axis=0)\n",
        "print(arr1)\n",
        "print(arr2)\n",
        "print(newarr)"
      ],
      "execution_count": null,
      "outputs": [
        {
          "output_type": "stream",
          "text": [
            "[1 2 3]\n",
            "[4 5 6]\n",
            "[[1 2 3]\n",
            " [4 5 6]]\n"
          ],
          "name": "stdout"
        }
      ]
    },
    {
      "cell_type": "code",
      "metadata": {
        "colab": {
          "base_uri": "https://localhost:8080/"
        },
        "id": "_XXW5HgnwXsC",
        "outputId": "b8f62e6f-40b9-4072-e988-f9110b69a557"
      },
      "source": [
        "import numpy as np\n",
        "arr1 = np.array([1,2,3])\n",
        "arr2=np.array([4,5,6])\n",
        "newarr = np.hstack((arr1,arr2))\n",
        "print(arr1)\n",
        "print(arr2)\n",
        "print(newarr)"
      ],
      "execution_count": null,
      "outputs": [
        {
          "output_type": "stream",
          "text": [
            "[1 2 3]\n",
            "[4 5 6]\n",
            "[1 2 3 4 5 6]\n"
          ],
          "name": "stdout"
        }
      ]
    },
    {
      "cell_type": "code",
      "metadata": {
        "colab": {
          "base_uri": "https://localhost:8080/"
        },
        "id": "4LQLml6BwbeZ",
        "outputId": "3f85312a-a98b-4f83-e4d9-6f3f58a6c0a2"
      },
      "source": [
        "import numpy as np\n",
        "arr1 = np.array([1,2,3])\n",
        "arr2=np.array([4,5,6])\n",
        "newarr = np.vstack((arr1,arr2))\n",
        "print(arr1)\n",
        "print(arr2)\n",
        "print(newarr)"
      ],
      "execution_count": null,
      "outputs": [
        {
          "output_type": "stream",
          "text": [
            "[1 2 3]\n",
            "[4 5 6]\n",
            "[[1 2 3]\n",
            " [4 5 6]]\n"
          ],
          "name": "stdout"
        }
      ]
    },
    {
      "cell_type": "code",
      "metadata": {
        "colab": {
          "base_uri": "https://localhost:8080/"
        },
        "id": "KvvJab27wfHH",
        "outputId": "88446a39-8782-4dfa-f0e7-fb7f6804ee1e"
      },
      "source": [
        "import numpy as np\n",
        "arr1 = np.array([1,2,3])\n",
        "arr2=np.array([4,5,6])\n",
        "newarr = np.dstack((arr1,arr2))\n",
        "print(newarr)"
      ],
      "execution_count": null,
      "outputs": [
        {
          "output_type": "stream",
          "text": [
            "[[[1 4]\n",
            "  [2 5]\n",
            "  [3 6]]]\n"
          ],
          "name": "stdout"
        }
      ]
    },
    {
      "cell_type": "markdown",
      "metadata": {
        "id": "sZ4QuACgw5FO"
      },
      "source": [
        "Split the given Array"
      ]
    },
    {
      "cell_type": "code",
      "metadata": {
        "colab": {
          "base_uri": "https://localhost:8080/"
        },
        "id": "nHwckIkpxA6G",
        "outputId": "dd688e65-52a0-4f78-a2a7-2d91b07ef4ca"
      },
      "source": [
        "import numpy as np\n",
        "arr = np.array([1,2,3,4,5,6])\n",
        "newarr=np.array_split(arr,3)\n",
        "print(arr1)\n",
        "print(newarr)"
      ],
      "execution_count": null,
      "outputs": [
        {
          "output_type": "stream",
          "text": [
            "[1 2 3 4 5 6]\n",
            "[array([1, 2]), array([3, 4]), array([5, 6])]\n"
          ],
          "name": "stdout"
        }
      ]
    },
    {
      "cell_type": "code",
      "metadata": {
        "colab": {
          "base_uri": "https://localhost:8080/"
        },
        "id": "xjik5O3axYOT",
        "outputId": "b7196479-1b53-4f52-9971-1514e1b10fab"
      },
      "source": [
        "import numpy as np\n",
        "arr = np.array([1,2,3,4,5,6])\n",
        "newarr=np.array_split(arr,4)\n",
        "print(arr1)\n",
        "print(newarr)"
      ],
      "execution_count": null,
      "outputs": [
        {
          "output_type": "stream",
          "text": [
            "[1 2 3 4 5 6]\n",
            "[array([1, 2]), array([3, 4]), array([5]), array([6])]\n"
          ],
          "name": "stdout"
        }
      ]
    },
    {
      "cell_type": "code",
      "metadata": {
        "colab": {
          "base_uri": "https://localhost:8080/"
        },
        "id": "mRDFgGKex1lf",
        "outputId": "62e7a721-702f-4212-b774-06b20329c676"
      },
      "source": [
        "import numpy as np\n",
        "arr = np.array([1,2,3,4,5,6])\n",
        "newarr=np.array_split(arr,3)\n",
        "print(newarr[0])\n",
        "print(newarr[1])\n",
        "print(newarr[2])"
      ],
      "execution_count": null,
      "outputs": [
        {
          "output_type": "stream",
          "text": [
            "[1 2]\n",
            "[3 4]\n",
            "[5 6]\n"
          ],
          "name": "stdout"
        }
      ]
    },
    {
      "cell_type": "code",
      "metadata": {
        "colab": {
          "base_uri": "https://localhost:8080/"
        },
        "id": "xYfOIslpyFOO",
        "outputId": "0643813b-cfab-41ba-f0d7-2499c9e89231"
      },
      "source": [
        "import numpy as np\n",
        "arr = np.array([1,2,3,4,5,6,7,8])\n",
        "newarr=np.where(arr==3)\n",
        "print(newarr)"
      ],
      "execution_count": null,
      "outputs": [
        {
          "output_type": "stream",
          "text": [
            "(array([2]),)\n"
          ],
          "name": "stdout"
        }
      ]
    },
    {
      "cell_type": "code",
      "metadata": {
        "colab": {
          "base_uri": "https://localhost:8080/"
        },
        "id": "vg7md2I1z_Ps",
        "outputId": "f1880abc-5cca-4d4d-8fbc-39f011f488ea"
      },
      "source": [
        "import numpy as np\n",
        "arr = np.array([1,2,3,4,5,6,4,4])\n",
        "newarr=np.where(arr==4)\n",
        "print(newarr)"
      ],
      "execution_count": null,
      "outputs": [
        {
          "output_type": "stream",
          "text": [
            "(array([3, 6, 7]),)\n"
          ],
          "name": "stdout"
        }
      ]
    },
    {
      "cell_type": "code",
      "metadata": {
        "colab": {
          "base_uri": "https://localhost:8080/"
        },
        "id": "Da_14F2V0EkO",
        "outputId": "afaf3bf9-3f62-4565-a2cc-6b8b6c1df781"
      },
      "source": [
        "import numpy as np\n",
        "arr = np.array([1,2,3,4,5,6,7,8])\n",
        "newarr=np.where(arr%2==0)\n",
        "print(newarr)"
      ],
      "execution_count": null,
      "outputs": [
        {
          "output_type": "stream",
          "text": [
            "(array([1, 3, 5, 7]),)\n"
          ],
          "name": "stdout"
        }
      ]
    },
    {
      "cell_type": "code",
      "metadata": {
        "colab": {
          "base_uri": "https://localhost:8080/"
        },
        "id": "QWgk1POt0c_o",
        "outputId": "2569f6a6-6b43-4509-969b-3fa02afcd97f"
      },
      "source": [
        "import numpy as np\n",
        "arr = np.array([1,2,3,4,5,6,7,8])\n",
        "newarr=np.where(arr%2==1)\n",
        "print(newarr)"
      ],
      "execution_count": null,
      "outputs": [
        {
          "output_type": "stream",
          "text": [
            "(array([0, 2, 4, 6]),)\n"
          ],
          "name": "stdout"
        }
      ]
    },
    {
      "cell_type": "code",
      "metadata": {
        "colab": {
          "base_uri": "https://localhost:8080/"
        },
        "id": "kwkjzCRL0kjl",
        "outputId": "8d5588de-ec4f-401f-e204-eb92c5bcea70"
      },
      "source": [
        "import numpy as np\n",
        "arr = np.array([6,7,8,9])\n",
        "newarr=np.searchsorted(arr,7)\n",
        "print(newarr)"
      ],
      "execution_count": null,
      "outputs": [
        {
          "output_type": "stream",
          "text": [
            "1\n"
          ],
          "name": "stdout"
        }
      ]
    },
    {
      "cell_type": "code",
      "metadata": {
        "colab": {
          "base_uri": "https://localhost:8080/"
        },
        "id": "MbTDsOiX1Tpe",
        "outputId": "24808b32-fc3c-43d6-a360-6d00d242d221"
      },
      "source": [
        "import numpy as np\n",
        "arr = np.array([6,7,8,9])\n",
        "newarr=np.searchsorted(arr,7, side='right')\n",
        "print(newarr)"
      ],
      "execution_count": null,
      "outputs": [
        {
          "output_type": "stream",
          "text": [
            "2\n"
          ],
          "name": "stdout"
        }
      ]
    },
    {
      "cell_type": "code",
      "metadata": {
        "colab": {
          "base_uri": "https://localhost:8080/"
        },
        "id": "pag-Nhgi19H1",
        "outputId": "ef65894f-eb2c-4f2b-b7dc-e7e1dd66e238"
      },
      "source": [
        "import numpy as np\n",
        "arr = np.array([414,42,43,44])\n",
        "newarr=arr[[True,False,True,False]]\n",
        "print(newarr)"
      ],
      "execution_count": null,
      "outputs": [
        {
          "output_type": "stream",
          "text": [
            "[414  43]\n"
          ],
          "name": "stdout"
        }
      ]
    },
    {
      "cell_type": "code",
      "metadata": {
        "colab": {
          "base_uri": "https://localhost:8080/"
        },
        "id": "_ifa9Byv2xfx",
        "outputId": "fd537671-a5d4-45e3-ebce-417691244417"
      },
      "source": [
        "import numpy as np\n",
        "arr = np.array([15,14,17,16])\n",
        "newarr=arr[[False,False,True,False]]\n",
        "print(newarr)"
      ],
      "execution_count": null,
      "outputs": [
        {
          "output_type": "stream",
          "text": [
            "[17]\n"
          ],
          "name": "stdout"
        }
      ]
    },
    {
      "cell_type": "code",
      "metadata": {
        "colab": {
          "base_uri": "https://localhost:8080/"
        },
        "id": "Srbhn1oI3aG5",
        "outputId": "87277ae9-13c1-4fb0-a6e1-03df9d23bfe8"
      },
      "source": [
        "import numpy as np\n",
        "arr = np.array([414,42,43,44])\n",
        "filter_arr=arr>42\n",
        "newarr=arr[filter_arr]\n",
        "print(filter_arr)\n",
        "print(newarr)"
      ],
      "execution_count": null,
      "outputs": [
        {
          "output_type": "stream",
          "text": [
            "[ True False  True  True]\n",
            "[414  43  44]\n"
          ],
          "name": "stdout"
        }
      ]
    },
    {
      "cell_type": "code",
      "metadata": {
        "colab": {
          "base_uri": "https://localhost:8080/"
        },
        "id": "qKK9VjH_38qM",
        "outputId": "61b39748-ec41-4d5c-ab40-39d0ae4675e9"
      },
      "source": [
        "pip install matplotlib"
      ],
      "execution_count": null,
      "outputs": [
        {
          "output_type": "stream",
          "text": [
            "Requirement already satisfied: matplotlib in /usr/local/lib/python3.6/dist-packages (3.2.2)\n",
            "Requirement already satisfied: numpy>=1.11 in /usr/local/lib/python3.6/dist-packages (from matplotlib) (1.18.5)\n",
            "Requirement already satisfied: cycler>=0.10 in /usr/local/lib/python3.6/dist-packages (from matplotlib) (0.10.0)\n",
            "Requirement already satisfied: kiwisolver>=1.0.1 in /usr/local/lib/python3.6/dist-packages (from matplotlib) (1.3.1)\n",
            "Requirement already satisfied: python-dateutil>=2.1 in /usr/local/lib/python3.6/dist-packages (from matplotlib) (2.8.1)\n",
            "Requirement already satisfied: pyparsing!=2.0.4,!=2.1.2,!=2.1.6,>=2.0.1 in /usr/local/lib/python3.6/dist-packages (from matplotlib) (2.4.7)\n",
            "Requirement already satisfied: six in /usr/local/lib/python3.6/dist-packages (from cycler>=0.10->matplotlib) (1.15.0)\n"
          ],
          "name": "stdout"
        }
      ]
    },
    {
      "cell_type": "code",
      "metadata": {
        "colab": {
          "base_uri": "https://localhost:8080/"
        },
        "id": "2qAwi52a4-_U",
        "outputId": "dc87dd51-7199-4bd2-d389-d66ce78664bc"
      },
      "source": [
        "nimport matplotlib \n",
        "print(matplotlib.__version__)"
      ],
      "execution_count": null,
      "outputs": [
        {
          "output_type": "stream",
          "text": [
            "3.2.2\n"
          ],
          "name": "stdout"
        }
      ]
    },
    {
      "cell_type": "code",
      "metadata": {
        "colab": {
          "base_uri": "https://localhost:8080/",
          "height": 265
        },
        "id": "DP_SiHCi5LlI",
        "outputId": "251cbde9-ade6-4986-fb0a-b7811aa15cbc"
      },
      "source": [
        "import matplotlib.pyplot as plt\n",
        "import numpy as np\n",
        "xpoint=np.array([0,6])\n",
        "ypoint=np.array([0,6])\n",
        "plt.plot(xpoint,ypoint)\n",
        "plt.show()"
      ],
      "execution_count": null,
      "outputs": [
        {
          "output_type": "display_data",
          "data": {
            "image/png": "[encoded data removed]",
            "text/plain": [
              "<Figure size 432x288 with 1 Axes>"
            ]
          },
          "metadata": {
            "tags": [],
            "needs_background": "light"
          }
        }
      ]
    },
    {
      "cell_type": "code",
      "metadata": {
        "colab": {
          "base_uri": "https://localhost:8080/",
          "height": 265
        },
        "id": "W_oGGdqi6QZ4",
        "outputId": "d68541cc-7f44-4f35-da73-1626e18594f3"
      },
      "source": [
        "import matplotlib.pyplot as plt\n",
        "import numpy as np\n",
        "xpoint=np.array([1,8])\n",
        "ypoint=np.array([3,10])\n",
        "plt.plot(xpoint,ypoint)\n",
        "plt.show()"
      ],
      "execution_count": null,
      "outputs": [
        {
          "output_type": "display_data",
          "data": {
            "image/png": "[encoded data removed]",
            "text/plain": [
              "<Figure size 432x288 with 1 Axes>"
            ]
          },
          "metadata": {
            "tags": [],
            "needs_background": "light"
          }
        }
      ]
    },
    {
      "cell_type": "code",
      "metadata": {
        "colab": {
          "base_uri": "https://localhost:8080/",
          "height": 265
        },
        "id": "LzEhK5Ql6fBK",
        "outputId": "b39bcad9-148b-4480-cdb4-f553b8b51749"
      },
      "source": [
        "import matplotlib.pyplot as plt\n",
        "import numpy as np\n",
        "xpoint=np.array([0,6])\n",
        "ypoint=np.array([0,6])\n",
        "plt.plot(xpoint,ypoint,'o')\n",
        "plt.show()"
      ],
      "execution_count": null,
      "outputs": [
        {
          "output_type": "display_data",
          "data": {
            "image/png": "[encoded data removed]",
            "text/plain": [
              "<Figure size 432x288 with 1 Axes>"
            ]
          },
          "metadata": {
            "tags": [],
            "needs_background": "light"
          }
        }
      ]
    },
    {
      "cell_type": "code",
      "metadata": {
        "colab": {
          "base_uri": "https://localhost:8080/",
          "height": 265
        },
        "id": "4Y2fugCR7xOX",
        "outputId": "ea57c9ec-e157-43e2-ca6e-ba7b230424a0"
      },
      "source": [
        "import matplotlib.pyplot as plt\n",
        "import numpy as np\n",
        "xpoint=np.array([1,2,6,8])\n",
        "ypoint=np.array([3,8,1,10])\n",
        "plt.plot(xpoint,ypoint)\n",
        "plt.show()"
      ],
      "execution_count": null,
      "outputs": [
        {
          "output_type": "display_data",
          "data": {
            "image/png": "[encoded data removed]",
            "text/plain": [
              "<Figure size 432x288 with 1 Axes>"
            ]
          },
          "metadata": {
            "tags": [],
            "needs_background": "light"
          }
        }
      ]
    },
    {
      "cell_type": "code",
      "metadata": {
        "colab": {
          "base_uri": "https://localhost:8080/",
          "height": 269
        },
        "id": "vzU-hr_V79sK",
        "outputId": "1b589a9f-11b9-4b41-d08d-b12c0754fd59"
      },
      "source": [
        "import matplotlib.pyplot as plt\n",
        "import numpy as np\n",
        "xpoint=np.array([1,2,6,8,55,12,954,52,457,22])\n",
        "plt.plot(xpoint,marker='*')\n",
        "plt.show()"
      ],
      "execution_count": null,
      "outputs": [
        {
          "output_type": "display_data",
          "data": {
            "image/png": "[encoded data removed]",
            "text/plain": [
              "<Figure size 432x288 with 1 Axes>"
            ]
          },
          "metadata": {
            "tags": [],
            "needs_background": "light"
          }
        }
      ]
    },
    {
      "cell_type": "code",
      "metadata": {
        "colab": {
          "base_uri": "https://localhost:8080/",
          "height": 269
        },
        "id": "YIMYJlHB8ds3",
        "outputId": "5b51965a-9e8f-4cf1-94d7-11466b757400"
      },
      "source": [
        "import matplotlib.pyplot as plt\n",
        "import numpy as np\n",
        "xpoint=np.array([1,2,6,8,55,12,954,52,457,22])\n",
        "plt.plot(xpoint,marker='o')\n",
        "plt.show()"
      ],
      "execution_count": null,
      "outputs": [
        {
          "output_type": "display_data",
          "data": {
            "image/png": "[encoded data removed]",
            "text/plain": [
              "<Figure size 432x288 with 1 Axes>"
            ]
          },
          "metadata": {
            "tags": [],
            "needs_background": "light"
          }
        }
      ]
    },
    {
      "cell_type": "code",
      "metadata": {
        "colab": {
          "base_uri": "https://localhost:8080/",
          "height": 269
        },
        "id": "NXEL0Mlx9P6P",
        "outputId": "02403428-81e0-4a1c-8ed4-4c7e10956e9c"
      },
      "source": [
        "import matplotlib.pyplot as plt\n",
        "import numpy as np\n",
        "xpoint=np.array([1,2,6,8,55,12,954,52,457,22])\n",
        "plt.plot(xpoint,'o:r')\n",
        "plt.show()"
      ],
      "execution_count": null,
      "outputs": [
        {
          "output_type": "display_data",
          "data": {
            "image/png": "[encoded data removed]",
            "text/plain": [
              "<Figure size 432x288 with 1 Axes>"
            ]
          },
          "metadata": {
            "tags": [],
            "needs_background": "light"
          }
        }
      ]
    },
    {
      "cell_type": "code",
      "metadata": {
        "colab": {
          "base_uri": "https://localhost:8080/",
          "height": 269
        },
        "id": "erlKHNyp9VK3",
        "outputId": "8faed1b3-d3c6-459c-89b6-e5b2c77369f0"
      },
      "source": [
        "import matplotlib.pyplot as plt\n",
        "import numpy as np\n",
        "xpoint=np.array([1,2,6,8,55,12,954,52,457,22])\n",
        "plt.plot(xpoint,'o-r')\n",
        "plt.show()"
      ],
      "execution_count": null,
      "outputs": [
        {
          "output_type": "display_data",
          "data": {
            "image/png": "[encoded data removed]",
            "text/plain": [
              "<Figure size 432x288 with 1 Axes>"
            ]
          },
          "metadata": {
            "tags": [],
            "needs_background": "light"
          }
        }
      ]
    },
    {
      "cell_type": "code",
      "metadata": {
        "colab": {
          "base_uri": "https://localhost:8080/",
          "height": 269
        },
        "id": "DUHlP9bn9fXf",
        "outputId": "e136d258-5ef1-4f32-b154-ad45ff791af6"
      },
      "source": [
        "import matplotlib.pyplot as plt\n",
        "import numpy as np\n",
        "xpoint=np.array([1,2,6,8,55,12,954,52,457,22])\n",
        "plt.plot(xpoint,'o--r')\n",
        "plt.show()"
      ],
      "execution_count": null,
      "outputs": [
        {
          "output_type": "display_data",
          "data": {
            "image/png": "[encoded data removed]",
            "text/plain": [
              "<Figure size 432x288 with 1 Axes>"
            ]
          },
          "metadata": {
            "tags": [],
            "needs_background": "light"
          }
        }
      ]
    },
    {
      "cell_type": "code",
      "metadata": {
        "colab": {
          "base_uri": "https://localhost:8080/",
          "height": 269
        },
        "id": "Eyur8eqj9lD9",
        "outputId": "14faa820-9a01-45a5-a314-6a8cc3e3be26"
      },
      "source": [
        "import matplotlib.pyplot as plt\n",
        "import numpy as np\n",
        "xpoint=np.array([1,2,6,8,55,12,954,52,457,22])\n",
        "plt.plot(xpoint,'o-.r')\n",
        "plt.show()"
      ],
      "execution_count": null,
      "outputs": [
        {
          "output_type": "display_data",
          "data": {
            "image/png": "[encoded data removed]",
            "text/plain": [
              "<Figure size 432x288 with 1 Axes>"
            ]
          },
          "metadata": {
            "tags": [],
            "needs_background": "light"
          }
        }
      ]
    },
    {
      "cell_type": "code",
      "metadata": {
        "colab": {
          "base_uri": "https://localhost:8080/",
          "height": 265
        },
        "id": "1faxQQZK9noz",
        "outputId": "6301881a-b4af-4351-bc0d-b72b692f23d8"
      },
      "source": [
        "import matplotlib.pyplot as plt\n",
        "import numpy as np\n",
        "x=np.array([0,1,2,3])\n",
        "y=np.array([4,5,6,7])\n",
        "plt.subplot(1,2,1)\n",
        "plt.plot(x,y)\n",
        "x=np.array([0,1,2,3])\n",
        "y=np.array([25,33,15,16])\n",
        "plt.subplot(1,2,2)\n",
        "plt.plot(x,y)\n",
        "plt.show()"
      ],
      "execution_count": null,
      "outputs": [
        {
          "output_type": "display_data",
          "data": {
            "image/png": "[encoded data removed]",
            "text/plain": [
              "<Figure size 432x288 with 2 Axes>"
            ]
          },
          "metadata": {
            "tags": [],
            "needs_background": "light"
          }
        }
      ]
    },
    {
      "cell_type": "code",
      "metadata": {
        "colab": {
          "base_uri": "https://localhost:8080/",
          "height": 147
        },
        "id": "bJw0HWp6-Ptn",
        "outputId": "1990acb1-f167-422a-bd07-baa7965145ed"
      },
      "source": [
        "import matplotlib.pyplot as plt\n",
        "import numpy as np\n",
        "x=np.array([0,1,2,3])\n",
        "y=np.array([4,5,6,7])\n",
        "plt.subplot(2,2,1)\n",
        "plt.plot(x,y)\n",
        "x=np.array([0,1,2,3])\n",
        "y=np.array([25,33,15,16])\n",
        "plt.subplot(2,2,2)\n",
        "plt.plot(x,y)\n",
        "plt.show()"
      ],
      "execution_count": null,
      "outputs": [
        {
          "output_type": "display_data",
          "data": {
            "image/png": "[encoded data removed]",
            "text/plain": [
              "<Figure size 432x288 with 2 Axes>"
            ]
          },
          "metadata": {
            "tags": [],
            "needs_background": "light"
          }
        }
      ]
    },
    {
      "cell_type": "code",
      "metadata": {
        "colab": {
          "base_uri": "https://localhost:8080/",
          "height": 265
        },
        "id": "5LjDDWRn_N1s",
        "outputId": "a26e3ed7-c356-4353-ce65-27fe6fea9e25"
      },
      "source": [
        "\n",
        "x=np.array([0,10,20,3])\n",
        "y=np.array([45,5,60,70])\n",
        "plt.subplot(2,1,1)\n",
        "plt.plot(x,y)\n",
        "x=np.array([0,1,2,3])\n",
        "y=np.array([25,33,15,16])\n",
        "plt.subplot(2,1,2)\n",
        "plt.plot(x,y)\n",
        "plt.show()"
      ],
      "execution_count": null,
      "outputs": [
        {
          "output_type": "display_data",
          "data": {
            "image/png": "[encoded data removed]",
            "text/plain": [
              "<Figure size 432x288 with 2 Axes>"
            ]
          },
          "metadata": {
            "tags": [],
            "needs_background": "light"
          }
        }
      ]
    },
    {
      "cell_type": "code",
      "metadata": {
        "colab": {
          "base_uri": "https://localhost:8080/",
          "height": 281
        },
        "id": "dhCJPN7O_XJt",
        "outputId": "64f89555-64ba-4612-afb8-4e82b60028d0"
      },
      "source": [
        "import matplotlib.pyplot as plt\n",
        "import numpy as np\n",
        "x=np.array([0,1,2,3])\n",
        "y=np.array([4,5,6,7])\n",
        "plt.subplot(2,3,1)\n",
        "plt.plot(x,y)\n",
        "plt.title('sales')\n",
        "x=np.array([0,1,2,3])\n",
        "y=np.array([25,33,15,16])\n",
        "plt.subplot(2,3,2)\n",
        "plt.plot(x,y)\n",
        "plt.title('income')\n",
        "\n",
        "x=np.array([1,10,25,3])\n",
        "y=np.array([25,330,15,162])\n",
        "plt.subplot(2,3,3)\n",
        "plt.plot(x,y)\n",
        "\n",
        "x=np.array([0,10,2,35])\n",
        "y=np.array([2500,313,150,16])\n",
        "plt.subplot(2,3,4)\n",
        "plt.plot(x,y)\n",
        "\n",
        "x=np.array([0,1,22,1000])\n",
        "y=np.array([2500,353,1455,1675])\n",
        "plt.subplot(2,3,5)\n",
        "plt.plot(x,y)\n",
        "\n",
        "x=np.array([0,15,2,553])\n",
        "y=np.array([25,3300,1005,1600])\n",
        "plt.subplot(2,3,6)\n",
        "plt.plot(x,y)\n",
        "\n",
        "plt.show()"
      ],
      "execution_count": null,
      "outputs": [
        {
          "output_type": "display_data",
          "data": {
            "image/png": "[encoded data removed]",
            "text/plain": [
              "<Figure size 432x288 with 6 Axes>"
            ]
          },
          "metadata": {
            "tags": [],
            "needs_background": "light"
          }
        }
      ]
    },
    {
      "cell_type": "code",
      "metadata": {
        "colab": {
          "base_uri": "https://localhost:8080/",
          "height": 294
        },
        "id": "mFnzw3LR_olJ",
        "outputId": "40ce21bb-0c0d-49e6-de3a-a60c2158f57a"
      },
      "source": [
        "import matplotlib.pyplot as plt\n",
        "import numpy as np\n",
        "x=np.array([0,5,6,25])\n",
        "y=np.array([45,56,6,70])\n",
        "plt.subplot(2,1,1)\n",
        "plt.plot(x,y)\n",
        "plt.title('sales')\n",
        "x=np.array([0,1,2,3])\n",
        "y=np.array([25,33,15,16])\n",
        "plt.subplot(2,1,2)\n",
        "plt.plot(x,y)\n",
        "plt.title('Income')\n",
        "plt.suptitle('Achary Workshop')\n",
        "plt.show()"
      ],
      "execution_count": null,
      "outputs": [
        {
          "output_type": "display_data",
          "data": {
            "image/png": "[encoded data removed]",
            "text/plain": [
              "<Figure size 432x288 with 2 Axes>"
            ]
          },
          "metadata": {
            "tags": [],
            "needs_background": "light"
          }
        }
      ]
    },
    {
      "cell_type": "code",
      "metadata": {
        "colab": {
          "base_uri": "https://localhost:8080/",
          "height": 294
        },
        "id": "aIMCrM8_Bz3g",
        "outputId": "5b9a3ccc-cf4b-44cf-a960-87a79f4994d3"
      },
      "source": [
        "import matplotlib.pyplot as plt\n",
        "import numpy as np\n",
        "x=np.array([0,5,6,25,55,8,9,10,65,45.5])\n",
        "y=np.array([45,56,6,70,65,88,789,25,12,11])\n",
        "plt.subplot(2,1,1)\n",
        "plt.plot(x,y)\n",
        "plt.title('sales')\n",
        "x=np.array([0,1,2,3,65,87,55,65,74,66])\n",
        "y=np.array([25,33,15,16,62,87,662,47,55,3])\n",
        "plt.subplot(2,1,2)\n",
        "plt.plot(x,y)\n",
        "plt.title('Income')\n",
        "plt.suptitle('Achary Workshop')\n",
        "plt.show()"
      ],
      "execution_count": null,
      "outputs": [
        {
          "output_type": "display_data",
          "data": {
            "image/png": "[encoded data removed]",
            "text/plain": [
              "<Figure size 432x288 with 2 Axes>"
            ]
          },
          "metadata": {
            "tags": [],
            "needs_background": "light"
          }
        }
      ]
    },
    {
      "cell_type": "code",
      "metadata": {
        "id": "F805yDFNCT8D",
        "colab": {
          "base_uri": "https://localhost:8080/",
          "height": 281
        },
        "outputId": "00814228-9c94-4e48-b6d8-b720bdc490eb"
      },
      "source": [
        "import matplotlib.pyplot as plt\n",
        "import numpy as np\n",
        "x=np.array([0,1,2,3,4,5,6,7,8,9,10,2,1,5,1,6])\n",
        "y=np.array([0,1,2,30,4,5,60,7,8,9,100,2,1,5,1,6])\n",
        "plt.scatter(x,y)\n",
        "plt.title(\"Scatter plot\")\n",
        "plt.show()"
      ],
      "execution_count": null,
      "outputs": [
        {
          "output_type": "display_data",
          "data": {
            "image/png": "[encoded data removed]",
            "text/plain": [
              "<Figure size 432x288 with 1 Axes>"
            ]
          },
          "metadata": {
            "tags": [],
            "needs_background": "light"
          }
        }
      ]
    },
    {
      "cell_type": "code",
      "metadata": {
        "colab": {
          "base_uri": "https://localhost:8080/",
          "height": 281
        },
        "id": "mEd7G0LFD5eb",
        "outputId": "3e1fba9e-7f8a-4759-c1a9-682e35f7faf7"
      },
      "source": [
        "import matplotlib.pyplot as plt\n",
        "import numpy as np\n",
        "x=np.array([0,1,2,3,4,5,6,7,8,9,10,2,1,5,1,6])\n",
        "y=np.array([0,1,2,30,4,5,60,7,8,9,100,2,1,5,1,6])\n",
        "plt.scatter(x,y,color='hotpink')\n",
        "x=np.array([0,10,2,36,4,50,6,7,8,90,10,2,1,5,41,6])\n",
        "y=np.array([0,15,2,30,4,5,60,27,8,9,100,2,1,5,1,6])\n",
        "plt.scatter(x,y,color='#88c999')\n",
        "plt.title(\"Scatter plot\")\n",
        "plt.show()"
      ],
      "execution_count": null,
      "outputs": [
        {
          "output_type": "display_data",
          "data": {
            "image/png": "[encoded data removed]",
            "text/plain": [
              "<Figure size 432x288 with 1 Axes>"
            ]
          },
          "metadata": {
            "tags": [],
            "needs_background": "light"
          }
        }
      ]
    },
    {
      "cell_type": "markdown",
      "metadata": {
        "id": "jRqaMBoc8Ukv"
      },
      "source": [
        "## **09-12-20**\r\n"
      ]
    },
    {
      "cell_type": "code",
      "metadata": {
        "id": "7HXLQwv4Eez3",
        "colab": {
          "base_uri": "https://localhost:8080/",
          "height": 265
        },
        "outputId": "b49067d7-c745-4c68-defc-ed19b3d94039"
      },
      "source": [
        "import matplotlib.pyplot as plt\r\n",
        "import numpy as np\r\n",
        "x=np.array([22,5,7,55,6,99,11,15,16,15])\r\n",
        "y=np.array([22,55,100,16,18,17,13,10,3,1])\r\n",
        "colors=np.array([0,10,20,30,40,50,60,70,80,90])\r\n",
        "plt.scatter(x,y, c=colors , cmap='viridis')\r\n",
        "plt.show()"
      ],
      "execution_count": null,
      "outputs": [
        {
          "output_type": "display_data",
          "data": {
            "image/png": "[encoded data removed]",
            "text/plain": [
              "<Figure size 432x288 with 1 Axes>"
            ]
          },
          "metadata": {
            "tags": [],
            "needs_background": "light"
          }
        }
      ]
    },
    {
      "cell_type": "code",
      "metadata": {
        "colab": {
          "base_uri": "https://localhost:8080/",
          "height": 269
        },
        "id": "Q_Cc-JLc_BXN",
        "outputId": "d01903d5-25f2-479f-e10f-3153b0f9be88"
      },
      "source": [
        "import matplotlib.pyplot as plt\r\n",
        "import numpy as np\r\n",
        "x=np.array([22,5,7,55,6,99,11,15,16,15])\r\n",
        "y=np.array([22,55,100,16,18,17,13,10,3,1])\r\n",
        "colors=np.array([0,10,20,30,40,50,60,70,80,90])\r\n",
        "plt.scatter(x,y, c=colors , cmap='Accent')\r\n",
        "plt.colorbar()\r\n",
        "plt.show()"
      ],
      "execution_count": null,
      "outputs": [
        {
          "output_type": "display_data",
          "data": {
            "image/png": "[encoded data removed]",
            "text/plain": [
              "<Figure size 432x288 with 2 Axes>"
            ]
          },
          "metadata": {
            "tags": [],
            "needs_background": "light"
          }
        }
      ]
    },
    {
      "cell_type": "markdown",
      "metadata": {
        "id": "2-cXjV_lALPb"
      },
      "source": [
        "Accent,\r\n",
        "Blues,\r\n",
        "BrBG,\r\n",
        "BUGn,\r\n",
        "BuPu,\r\n",
        "CMRmap,\r\n",
        "Dark2,\r\n",
        "GnBu,\r\n",
        "Greens,\r\n",
        "Greys"
      ]
    },
    {
      "cell_type": "code",
      "metadata": {
        "colab": {
          "base_uri": "https://localhost:8080/",
          "height": 269
        },
        "id": "ArwIBALz_tuF",
        "outputId": "1e4a0485-638b-4946-9b2a-ef96f0f03b29"
      },
      "source": [
        "import matplotlib.pyplot as plt\r\n",
        "import numpy as np\r\n",
        "x=np.array([22,5,7,55,6,99,11,15,16,15])\r\n",
        "y=np.array([22,55,100,16,18,17,13,10,3,1])\r\n",
        "sizes=np.array([0,10,20,30,40,50,60,70,80,90])\r\n",
        "plt.scatter(x,y, s=sizes)\r\n",
        "plt.colorbar()\r\n",
        "plt.show()"
      ],
      "execution_count": null,
      "outputs": [
        {
          "output_type": "display_data",
          "data": {
            "image/png": "[encoded data removed]",
            "text/plain": [
              "<Figure size 432x288 with 2 Axes>"
            ]
          },
          "metadata": {
            "tags": [],
            "needs_background": "light"
          }
        }
      ]
    },
    {
      "cell_type": "code",
      "metadata": {
        "colab": {
          "base_uri": "https://localhost:8080/",
          "height": 269
        },
        "id": "nJU2VRJdAyZ6",
        "outputId": "03938cee-d58d-4e44-cedb-a035dfe1db9a"
      },
      "source": [
        "import matplotlib.pyplot as plt\r\n",
        "import numpy as np\r\n",
        "x=np.array([22,5,7,55,6,99,11,15,16,15])\r\n",
        "y=np.array([22,55,100,16,18,17,13,10,3,1])\r\n",
        "sizes=np.array([0,10,20,30,40,50,60,70,80,90])\r\n",
        "plt.scatter(x,y, s=sizes,alpha=0.7)\r\n",
        "plt.colorbar()\r\n",
        "plt.show()"
      ],
      "execution_count": null,
      "outputs": [
        {
          "output_type": "display_data",
          "data": {
            "image/png": "[encoded data removed]",
            "text/plain": [
              "<Figure size 432x288 with 2 Axes>"
            ]
          },
          "metadata": {
            "tags": [],
            "needs_background": "light"
          }
        }
      ]
    },
    {
      "cell_type": "code",
      "metadata": {
        "colab": {
          "base_uri": "https://localhost:8080/",
          "height": 265
        },
        "id": "AGRFa7FzA-6f",
        "outputId": "9e933208-b5bf-490a-c528-75cb4acdc4a2"
      },
      "source": [
        "import matplotlib.pyplot as plt\r\n",
        "import numpy as np\r\n",
        "x=np.random.randint(100,size=(100))\r\n",
        "y=np.random.randint(100,size=(100))\r\n",
        "colors=np.random.randint(100,size=(100))\r\n",
        "sizes=10*np.random.randint(100,size=(100))\r\n",
        "plt.scatter(x,y,c=colors, s=sizes,alpha=0.7,cmap='nipy_spectral')\r\n",
        "plt.colorbar()\r\n",
        "plt.show()"
      ],
      "execution_count": null,
      "outputs": [
        {
          "output_type": "display_data",
          "data": {
            "image/png": "[encoded data removed]",
            "text/plain": [
              "<Figure size 432x288 with 2 Axes>"
            ]
          },
          "metadata": {
            "tags": [],
            "needs_background": "light"
          }
        }
      ]
    },
    {
      "cell_type": "markdown",
      "metadata": {
        "id": "ZZ5BiL_zCVNT"
      },
      "source": [
        "**Bar plots/charts**"
      ]
    },
    {
      "cell_type": "code",
      "metadata": {
        "colab": {
          "base_uri": "https://localhost:8080/",
          "height": 265
        },
        "id": "VGyBcrDUB1uO",
        "outputId": "219151a9-7c89-4b60-8c9b-741b624ffa5d"
      },
      "source": [
        "import matplotlib.pyplot as plt\r\n",
        "import numpy as np\r\n",
        "x=np.array(['A','B','C','D'])\r\n",
        "y=np.array([23,15,25,20])\r\n",
        "plt.bar(x,y)\r\n",
        "plt.show()"
      ],
      "execution_count": null,
      "outputs": [
        {
          "output_type": "display_data",
          "data": {
            "image/png": "[encoded data removed]",
            "text/plain": [
              "<Figure size 432x288 with 1 Axes>"
            ]
          },
          "metadata": {
            "tags": [],
            "needs_background": "light"
          }
        }
      ]
    },
    {
      "cell_type": "code",
      "metadata": {
        "colab": {
          "base_uri": "https://localhost:8080/",
          "height": 265
        },
        "id": "9WcyEmrMDeNe",
        "outputId": "5ce71d17-cd37-4893-9c0e-bf47b4ab683b"
      },
      "source": [
        "import matplotlib.pyplot as plt\r\n",
        "import numpy as np\r\n",
        "x=np.array(['A','B','C','D'])\r\n",
        "y=np.array([23,15,25,20])\r\n",
        "plt.barh(x,y)\r\n",
        "plt.show()"
      ],
      "execution_count": null,
      "outputs": [
        {
          "output_type": "display_data",
          "data": {
            "image/png": "[encoded data removed]",
            "text/plain": [
              "<Figure size 432x288 with 1 Axes>"
            ]
          },
          "metadata": {
            "tags": [],
            "needs_background": "light"
          }
        }
      ]
    },
    {
      "cell_type": "code",
      "metadata": {
        "colab": {
          "base_uri": "https://localhost:8080/",
          "height": 265
        },
        "id": "yymm4Pz6Duk3",
        "outputId": "869b9366-52fc-4c14-a158-46690d87abce"
      },
      "source": [
        "import matplotlib.pyplot as plt\r\n",
        "import numpy as np\r\n",
        "x=np.array(['A','B','C','D'])\r\n",
        "y=np.array([23,15,25,20])\r\n",
        "plt.bar(x,y, color='red')\r\n",
        "plt.show()"
      ],
      "execution_count": null,
      "outputs": [
        {
          "output_type": "display_data",
          "data": {
            "image/png": "[encoded data removed]",
            "text/plain": [
              "<Figure size 432x288 with 1 Axes>"
            ]
          },
          "metadata": {
            "tags": [],
            "needs_background": "light"
          }
        }
      ]
    },
    {
      "cell_type": "code",
      "metadata": {
        "colab": {
          "base_uri": "https://localhost:8080/",
          "height": 265
        },
        "id": "aeAN_CBED59y",
        "outputId": "29d33299-0376-4cb2-9a8f-bb18652a581f"
      },
      "source": [
        "import matplotlib.pyplot as plt\r\n",
        "import numpy as np\r\n",
        "x=np.array(['A','B','C','D'])\r\n",
        "y=np.array([23,15,25,20])\r\n",
        "plt.barh(x,y, color='red')\r\n",
        "plt.show()"
      ],
      "execution_count": null,
      "outputs": [
        {
          "output_type": "display_data",
          "data": {
            "image/png": "[encoded data removed]",
            "text/plain": [
              "<Figure size 432x288 with 1 Axes>"
            ]
          },
          "metadata": {
            "tags": [],
            "needs_background": "light"
          }
        }
      ]
    },
    {
      "cell_type": "code",
      "metadata": {
        "colab": {
          "base_uri": "https://localhost:8080/",
          "height": 265
        },
        "id": "2fZK8s70EHc8",
        "outputId": "c0dd2a38-533a-404c-cc9c-8fe8f8aa9056"
      },
      "source": [
        "import matplotlib.pyplot as plt\r\n",
        "import numpy as np\r\n",
        "x=np.array(['A','B','C','D'])\r\n",
        "y=np.array([23,15,25,20])\r\n",
        "plt.bar(x,y, color='green')\r\n",
        "plt.show()"
      ],
      "execution_count": null,
      "outputs": [
        {
          "output_type": "display_data",
          "data": {
            "image/png": "[encoded data removed]",
            "text/plain": [
              "<Figure size 432x288 with 1 Axes>"
            ]
          },
          "metadata": {
            "tags": [],
            "needs_background": "light"
          }
        }
      ]
    },
    {
      "cell_type": "code",
      "metadata": {
        "colab": {
          "base_uri": "https://localhost:8080/",
          "height": 265
        },
        "id": "bzcV2yPyEVQc",
        "outputId": "183567b9-55f4-4313-b802-9535e1791b0f"
      },
      "source": [
        "import matplotlib.pyplot as plt\r\n",
        "import numpy as np\r\n",
        "x=np.array(['A','B','C','D'])\r\n",
        "y=np.array([23,15,25,20])\r\n",
        "plt.bar(x,y, width=0.1 )\r\n",
        "plt.show()"
      ],
      "execution_count": null,
      "outputs": [
        {
          "output_type": "display_data",
          "data": {
            "image/png": "[encoded data removed]",
            "text/plain": [
              "<Figure size 432x288 with 1 Axes>"
            ]
          },
          "metadata": {
            "tags": [],
            "needs_background": "light"
          }
        }
      ]
    },
    {
      "cell_type": "code",
      "metadata": {
        "colab": {
          "base_uri": "https://localhost:8080/",
          "height": 265
        },
        "id": "8wGgwEe1Es-0",
        "outputId": "c9a77a03-10db-4edd-a4be-6cac5d33c7dd"
      },
      "source": [
        "import matplotlib.pyplot as plt\r\n",
        "import numpy as np\r\n",
        "x=np.array(['A','B','C','D'])\r\n",
        "y=np.array([23,15,25,20])\r\n",
        "plt.barh(x,y, height=0.1)\r\n",
        "plt.show()"
      ],
      "execution_count": null,
      "outputs": [
        {
          "output_type": "display_data",
          "data": {
            "image/png": "[encoded data removed]",
            "text/plain": [
              "<Figure size 432x288 with 1 Axes>"
            ]
          },
          "metadata": {
            "tags": [],
            "needs_background": "light"
          }
        }
      ]
    },
    {
      "cell_type": "code",
      "metadata": {
        "colab": {
          "base_uri": "https://localhost:8080/"
        },
        "id": "d2blp9DSE7ae",
        "outputId": "d6b5abef-4f64-4823-dbe5-3d1fca3b919a"
      },
      "source": [
        "import numpy as np\r\n",
        "x=np.random.normal(170,10,250)\r\n",
        "print(x)"
      ],
      "execution_count": null,
      "outputs": [
        {
          "output_type": "stream",
          "text": [
            "[188.61773776 156.56465622 166.66320152 167.28247235 166.80408383\n",
            " 179.40359335 164.80975071 169.57618582 160.28804771 171.71658989\n",
            " 154.3720641  183.84648359 168.46730295 170.41778235 178.21104283\n",
            " 174.20873078 174.25943785 157.57998785 164.19179139 170.29093072\n",
            " 157.5395275  175.05708197 175.99810747 169.11627422 161.24765683\n",
            " 167.22436829 182.66947718 174.04241787 175.75715681 181.44175241\n",
            " 168.40193784 176.49364262 168.52085586 178.67000888 161.38323561\n",
            " 178.27226844 159.9592084  165.81746674 153.98488329 169.58135768\n",
            " 180.13682573 182.79272144 172.60785889 189.59333762 157.16349169\n",
            " 186.27494746 161.19900524 171.93767496 159.41345965 162.72571987\n",
            " 165.77401056 155.86503933 155.35041035 174.11287567 179.34634441\n",
            " 161.20302628 166.41041316 165.79166118 161.16485974 168.85158307\n",
            " 157.10589617 157.10605936 155.47953129 166.37171046 177.44826218\n",
            " 170.54957837 166.9511709  141.95995307 158.12142504 171.14203612\n",
            " 171.3829101  186.7008152  176.73858274 168.84334736 165.41251731\n",
            " 175.78509269 178.12310351 169.97866189 174.86658395 169.63593189\n",
            " 188.96183716 169.48957377 150.52624542 182.60849177 176.49173777\n",
            " 153.04044225 163.38540841 165.66182297 145.9122835  182.43140374\n",
            " 177.65139386 157.69661679 177.33224982 172.32195023 160.93230022\n",
            " 189.30635182 178.29233952 163.05227109 163.29882296 154.95985057\n",
            " 173.9966526  177.71034893 175.73576192 171.21261262 173.44240267\n",
            " 171.40787356 165.71155963 175.40216446 164.65463738 174.89219375\n",
            " 177.65436066 162.10690727 168.25688524 160.60331114 176.76881863\n",
            " 166.01024316 178.08241418 159.46059228 155.89166567 166.09507626\n",
            " 172.18686216 168.38733635 154.95688832 183.915958   172.30452378\n",
            " 179.17556395 170.62358104 154.43671106 177.58536155 169.34823433\n",
            " 151.5202981  150.11103036 163.99049625 146.00405049 164.04127753\n",
            " 178.41631718 185.33800172 171.00637578 177.15819396 163.28046138\n",
            " 188.52843987 156.03460235 167.41388648 168.4451186  172.30044658\n",
            " 159.97924101 165.96103971 152.21656683 176.9164465  184.02294319\n",
            " 167.86081808 173.37045118 186.5111831  181.32470748 173.12578811\n",
            " 168.37394108 168.67139031 182.58067209 174.89550238 174.43751183\n",
            " 162.32658386 189.34143319 182.8743627  182.40009734 170.53534477\n",
            " 161.59727297 187.93483764 169.06107473 156.91529051 168.47864872\n",
            " 164.59734764 161.49336989 168.49030153 161.23128046 165.77190106\n",
            " 170.49695129 181.94022192 152.64418455 171.62299193 163.16486397\n",
            " 181.55935755 162.45060635 177.43305873 169.99841183 175.44146425\n",
            " 177.62391176 160.5078645  154.38318425 155.3440531  154.51225098\n",
            " 169.63974231 171.58650288 159.29983898 193.54696519 168.58543859\n",
            " 164.81045957 173.66458033 157.3317799  151.49691554 166.89960081\n",
            " 167.77817074 167.51434521 180.44633252 160.93320374 153.38119977\n",
            " 173.18201168 161.16914967 154.04057857 161.6245295  171.2507291\n",
            " 162.35343959 182.61606053 177.06211039 171.60202627 173.21545319\n",
            " 172.67914093 199.4652912  176.63665352 176.29233253 171.03819102\n",
            " 160.6570778  168.02708782 177.66035061 163.03561818 175.89698572\n",
            " 160.61012646 171.78222112 159.55129099 187.534329   182.17737361\n",
            " 167.29693368 179.28607118 178.254742   162.45419164 177.88630917\n",
            " 182.50009009 163.02070646 162.80941214 186.66788891 165.36999048\n",
            " 169.0438026  171.85736101 162.47030981 165.26436879 180.73970193\n",
            " 178.5419125  169.12420937 153.4161502  172.62567512 179.32344315]\n"
          ],
          "name": "stdout"
        }
      ]
    },
    {
      "cell_type": "code",
      "metadata": {
        "colab": {
          "base_uri": "https://localhost:8080/",
          "height": 265
        },
        "id": "YdbqYU99FZgx",
        "outputId": "52397cbc-fb53-4ebf-de99-1a089716f86a"
      },
      "source": [
        "import matplotlib.pyplot as plt\r\n",
        "import numpy as np\r\n",
        "x=np.random.normal(170,10,250)\r\n",
        "plt.hist(x)\r\n",
        "plt.show()\r\n"
      ],
      "execution_count": null,
      "outputs": [
        {
          "output_type": "display_data",
          "data": {
            "image/png": "[encoded data removed]",
            "text/plain": [
              "<Figure size 432x288 with 1 Axes>"
            ]
          },
          "metadata": {
            "tags": [],
            "needs_background": "light"
          }
        }
      ]
    },
    {
      "cell_type": "code",
      "metadata": {
        "colab": {
          "base_uri": "https://localhost:8080/",
          "height": 248
        },
        "id": "8tHqEWoNF14I",
        "outputId": "8feba475-2ca6-47e6-c4ca-3f34a93034e5"
      },
      "source": [
        "import matplotlib.pyplot as plt\r\n",
        "import numpy as np\r\n",
        "y=np.array([35,25,25,15])\r\n",
        "plt.pie(y)\r\n",
        "plt.show()"
      ],
      "execution_count": null,
      "outputs": [
        {
          "output_type": "display_data",
          "data": {
            "image/png": "[encoded data removed]",
            "text/plain": [
              "<Figure size 432x288 with 1 Axes>"
            ]
          },
          "metadata": {
            "tags": []
          }
        }
      ]
    },
    {
      "cell_type": "code",
      "metadata": {
        "colab": {
          "base_uri": "https://localhost:8080/",
          "height": 248
        },
        "id": "spHluc4_GOs3",
        "outputId": "b60c6f3e-2dc7-4c89-f89f-2d11de8c749c"
      },
      "source": [
        "import matplotlib.pyplot as plt\r\n",
        "import numpy as np\r\n",
        "y=np.array([35,25,25,15])\r\n",
        "mylabels=['mangoes','oranges','apple','banana']\r\n",
        "plt.pie(y, labels=mylabels)\r\n",
        "plt.show()"
      ],
      "execution_count": null,
      "outputs": [
        {
          "output_type": "display_data",
          "data": {
            "image/png": "[encoded data removed]",
            "text/plain": [
              "<Figure size 432x288 with 1 Axes>"
            ]
          },
          "metadata": {
            "tags": []
          }
        }
      ]
    },
    {
      "cell_type": "code",
      "metadata": {
        "colab": {
          "base_uri": "https://localhost:8080/",
          "height": 325
        },
        "id": "JOpu_A0JGhG0",
        "outputId": "beefed68-11ff-45bc-cb83-bb1543e4c591"
      },
      "source": [
        "import matplotlib.pyplot as plt\r\n",
        "import numpy as np\r\n",
        "y=np.array([35,25,25,15])\r\n",
        "mylabels=['mangoes','oranges','apple','banana']\r\n",
        "myexplode=[0.2,0.5,1,0.7]\r\n",
        "plt.pie(y, labels=mylabels, explode=myexplode)\r\n",
        "plt.show()"
      ],
      "execution_count": null,
      "outputs": [
        {
          "output_type": "display_data",
          "data": {
            "image/png": "[encoded data removed]",
            "text/plain": [
              "<Figure size 432x288 with 1 Axes>"
            ]
          },
          "metadata": {
            "tags": []
          }
        }
      ]
    },
    {
      "cell_type": "code",
      "metadata": {
        "colab": {
          "base_uri": "https://localhost:8080/",
          "height": 248
        },
        "id": "s55cXFomHHBY",
        "outputId": "207ec782-dd49-4956-9b43-634907153761"
      },
      "source": [
        "import matplotlib.pyplot as plt\r\n",
        "import numpy as np\r\n",
        "y=np.array([35,25,25,15])\r\n",
        "mylabels=['mangoes','oranges','apple','banana']\r\n",
        "myexplode=[0.2,0,0,0.7]\r\n",
        "plt.pie(y, labels=mylabels, explode=myexplode, shadow=True)\r\n",
        "plt.show()"
      ],
      "execution_count": null,
      "outputs": [
        {
          "output_type": "display_data",
          "data": {
            "image/png": "[encoded data removed]",
            "text/plain": [
              "<Figure size 432x288 with 1 Axes>"
            ]
          },
          "metadata": {
            "tags": []
          }
        }
      ]
    },
    {
      "cell_type": "code",
      "metadata": {
        "colab": {
          "base_uri": "https://localhost:8080/",
          "height": 248
        },
        "id": "AolnV7j5HrLC",
        "outputId": "243bc304-7ab7-4560-f77d-2be60609aa4e"
      },
      "source": [
        "import matplotlib.pyplot as plt\r\n",
        "import numpy as np\r\n",
        "y=np.array([35,25,25,15])\r\n",
        "mylabels=['mangoes','oranges','apple','banana']\r\n",
        "myexplode=[0.2,0,0,0.7]\r\n",
        "plt.pie(y, labels=mylabels, explode=myexplode, shadow=True)\r\n",
        "plt.legend(title='Fruits-')\r\n",
        "plt.show()"
      ],
      "execution_count": null,
      "outputs": [
        {
          "output_type": "display_data",
          "data": {
            "image/png": "[encoded data removed]",
            "text/plain": [
              "<Figure size 432x288 with 1 Axes>"
            ]
          },
          "metadata": {
            "tags": []
          }
        }
      ]
    },
    {
      "cell_type": "code",
      "metadata": {
        "colab": {
          "base_uri": "https://localhost:8080/",
          "height": 248
        },
        "id": "_GYTATVZIChf",
        "outputId": "17221499-bb24-4dbd-c6bc-77c003e4d4b2"
      },
      "source": [
        "import matplotlib.pyplot as plt\r\n",
        "import numpy as np\r\n",
        "y=np.array([35,25,25,15])\r\n",
        "mylabels=['Bus','car','plane','bike']\r\n",
        "myexplode=[0,0.7,0,0.7]\r\n",
        "plt.pie(y, labels=mylabels, explode=myexplode, shadow=True)\r\n",
        "plt.legend(title='Vehicles-')\r\n",
        "plt.show()"
      ],
      "execution_count": null,
      "outputs": [
        {
          "output_type": "display_data",
          "data": {
            "image/png": "[encoded data removed]",
            "text/plain": [
              "<Figure size 432x288 with 1 Axes>"
            ]
          },
          "metadata": {
            "tags": []
          }
        }
      ]
    },
    {
      "cell_type": "markdown",
      "metadata": {
        "id": "ALUtMWeWxrGs"
      },
      "source": [
        "Extra Class"
      ]
    },
    {
      "cell_type": "markdown",
      "metadata": {
        "id": "XF2XGHmYx4Sy"
      },
      "source": [
        "Scipy---\r\n",
        "scientific Python\r\n",
        ":-\r\n",
        "Numpy undereath\r\n",
        "optimization,stats,signal Processing,Image Processing 2)Lib is freely avilable\r\n",
        ":-scipy c or Python\r\n",
        ":-pip install scipy from scipy import constant"
      ]
    },
    {
      "cell_type": "markdown",
      "metadata": {
        "id": "7CclPg5IzaVk"
      },
      "source": [
        "# **Scientific Computing using Scipy**"
      ]
    },
    {
      "cell_type": "code",
      "metadata": {
        "id": "raOcacjyI-0x",
        "colab": {
          "base_uri": "https://localhost:8080/"
        },
        "outputId": "ab55c994-00e7-4a88-ae14-3f7025dc45bc"
      },
      "source": [
        "import scipy \r\n",
        "print(scipy.__version__)"
      ],
      "execution_count": null,
      "outputs": [
        {
          "output_type": "stream",
          "text": [
            "1.4.1\n"
          ],
          "name": "stdout"
        }
      ]
    },
    {
      "cell_type": "code",
      "metadata": {
        "colab": {
          "base_uri": "https://localhost:8080/"
        },
        "id": "OvVL-leazL1P",
        "outputId": "989f2ffc-d487-471c-80a3-f06a0d496ef8"
      },
      "source": [
        "from scipy import constants\r\n",
        "print(constants.pi)"
      ],
      "execution_count": null,
      "outputs": [
        {
          "output_type": "stream",
          "text": [
            "3.141592653589793\n"
          ],
          "name": "stdout"
        }
      ]
    },
    {
      "cell_type": "code",
      "metadata": {
        "colab": {
          "base_uri": "https://localhost:8080/"
        },
        "id": "dfcA85Yoz02z",
        "outputId": "89a843cd-168a-407d-8734-3a6e74d91ef3"
      },
      "source": [
        "from scipy import constants\r\n",
        "print(dir(constants))"
      ],
      "execution_count": null,
      "outputs": [
        {
          "output_type": "stream",
          "text": [
            "['Avogadro', 'Boltzmann', 'Btu', 'Btu_IT', 'Btu_th', 'ConstantWarning', 'G', 'Julian_year', 'N_A', 'Planck', 'R', 'Rydberg', 'Stefan_Boltzmann', 'Wien', '__all__', '__builtins__', '__cached__', '__doc__', '__file__', '__loader__', '__name__', '__package__', '__path__', '__spec__', '_obsolete_constants', 'absolute_import', 'acre', 'alpha', 'angstrom', 'arcmin', 'arcminute', 'arcsec', 'arcsecond', 'astronomical_unit', 'atm', 'atmosphere', 'atomic_mass', 'atto', 'au', 'bar', 'barrel', 'bbl', 'blob', 'c', 'calorie', 'calorie_IT', 'calorie_th', 'carat', 'centi', 'codata', 'constants', 'convert_temperature', 'day', 'deci', 'degree', 'degree_Fahrenheit', 'deka', 'division', 'dyn', 'dyne', 'e', 'eV', 'electron_mass', 'electron_volt', 'elementary_charge', 'epsilon_0', 'erg', 'exa', 'exbi', 'femto', 'fermi', 'find', 'fine_structure', 'fluid_ounce', 'fluid_ounce_US', 'fluid_ounce_imp', 'foot', 'g', 'gallon', 'gallon_US', 'gallon_imp', 'gas_constant', 'gibi', 'giga', 'golden', 'golden_ratio', 'grain', 'gram', 'gravitational_constant', 'h', 'hbar', 'hectare', 'hecto', 'horsepower', 'hour', 'hp', 'inch', 'k', 'kgf', 'kibi', 'kilo', 'kilogram_force', 'kmh', 'knot', 'lambda2nu', 'lb', 'lbf', 'light_year', 'liter', 'litre', 'long_ton', 'm_e', 'm_n', 'm_p', 'm_u', 'mach', 'mebi', 'mega', 'metric_ton', 'micro', 'micron', 'mil', 'mile', 'milli', 'minute', 'mmHg', 'mph', 'mu_0', 'nano', 'nautical_mile', 'neutron_mass', 'nu2lambda', 'ounce', 'oz', 'parsec', 'pebi', 'peta', 'physical_constants', 'pi', 'pico', 'point', 'pound', 'pound_force', 'precision', 'print_function', 'proton_mass', 'psi', 'pt', 'short_ton', 'sigma', 'slinch', 'slug', 'speed_of_light', 'speed_of_sound', 'stone', 'survey_foot', 'survey_mile', 'tebi', 'tera', 'test', 'ton_TNT', 'torr', 'troy_ounce', 'troy_pound', 'u', 'unit', 'value', 'week', 'yard', 'year', 'yobi', 'yotta', 'zebi', 'zepto', 'zero_Celsius', 'zetta']\n"
          ],
          "name": "stdout"
        }
      ]
    },
    {
      "cell_type": "code",
      "metadata": {
        "colab": {
          "base_uri": "https://localhost:8080/"
        },
        "id": "MkzcZ5cuz7jb",
        "outputId": "60386693-c9e2-4bba-8a2f-b900d0da616f"
      },
      "source": [
        "from scipy import constants\r\n",
        "print(constants.yotta)\r\n",
        "print(constants.zetta)\r\n",
        "print(constants.exa)\r\n",
        "print(constants.tera)\r\n",
        "print(constants.mega)\r\n",
        "print(constants.kilo)\r\n",
        "print(constants.pico)"
      ],
      "execution_count": null,
      "outputs": [
        {
          "output_type": "stream",
          "text": [
            "1e+24\n",
            "1e+21\n",
            "1e+18\n",
            "1000000000000.0\n",
            "1000000.0\n",
            "1000.0\n",
            "1e-12\n",
            "1e-06\n"
          ],
          "name": "stdout"
        }
      ]
    },
    {
      "cell_type": "code",
      "metadata": {
        "colab": {
          "base_uri": "https://localhost:8080/"
        },
        "id": "tbG3z9U10SoO",
        "outputId": "c0e953eb-6118-44ad-de1e-21128eb73495"
      },
      "source": [
        "from scipy import constants\r\n",
        "print(constants.gram)\r\n",
        "print(constants.pound)\r\n",
        "print(constants.carat)\r\n",
        "print(constants.u)\r\n",
        "print(constants.atomic_mass)\r\n",
        "print(constants.astronomical_unit)"
      ],
      "execution_count": null,
      "outputs": [
        {
          "output_type": "stream",
          "text": [
            "0.001\n",
            "0.45359236999999997\n",
            "0.0002\n",
            "1.6605390666e-27\n",
            "1.6605390666e-27\n",
            "149597870700.0\n"
          ],
          "name": "stdout"
        }
      ]
    },
    {
      "cell_type": "code",
      "metadata": {
        "colab": {
          "base_uri": "https://localhost:8080/"
        },
        "id": "z6KsfWOc0zkZ",
        "outputId": "0095f78f-d534-4b11-ce9b-c3f0040dca01"
      },
      "source": [
        "from scipy import constants\r\n",
        "print(constants.minute)\r\n",
        "print(constants.hour)\r\n",
        "print(constants.day)\r\n",
        "print(constants.week)\r\n",
        "print(constants.year)\r\n",
        "print(constants.Julian_year)"
      ],
      "execution_count": null,
      "outputs": [
        {
          "output_type": "stream",
          "text": [
            "60.0\n",
            "3600.0\n",
            "86400.0\n",
            "604800.0\n",
            "31536000.0\n",
            "31557600.0\n"
          ],
          "name": "stdout"
        }
      ]
    },
    {
      "cell_type": "code",
      "metadata": {
        "colab": {
          "base_uri": "https://localhost:8080/"
        },
        "id": "q7f-BXJl1f_s",
        "outputId": "603f0a33-11bf-4622-c36f-564b8bef7cdf"
      },
      "source": [
        "from scipy import constants\r\n",
        "print(constants.inch)\r\n",
        "print(constants.foot)\r\n",
        "print(constants.mile)\r\n",
        "print(constants.pt)\r\n",
        "print(constants.point)\r\n",
        "print(constants.nautical_mile)"
      ],
      "execution_count": null,
      "outputs": [
        {
          "output_type": "stream",
          "text": [
            "0.0254\n",
            "0.30479999999999996\n",
            "1609.3439999999998\n",
            "0.00035277777777777776\n",
            "0.00035277777777777776\n",
            "1852.0\n"
          ],
          "name": "stdout"
        }
      ]
    },
    {
      "cell_type": "code",
      "metadata": {
        "colab": {
          "base_uri": "https://localhost:8080/"
        },
        "id": "64bXzfz113sE",
        "outputId": "80284a05-df22-4e14-a5d0-f38162065025"
      },
      "source": [
        "from scipy import constants\r\n",
        "print(constants.zero_Celsius)\r\n",
        "print(constants.degree_Fahrenheit)"
      ],
      "execution_count": null,
      "outputs": [
        {
          "output_type": "stream",
          "text": [
            "273.15\n",
            "0.5555555555555556\n"
          ],
          "name": "stdout"
        }
      ]
    },
    {
      "cell_type": "code",
      "metadata": {
        "colab": {
          "base_uri": "https://localhost:8080/"
        },
        "id": "UT_so7dQ2N9d",
        "outputId": "202b5ad8-f42a-4490-faac-30cb6012bc9d"
      },
      "source": [
        "from scipy import constants\r\n",
        "print(constants.electron_volt)\r\n",
        "print(constants.eV)"
      ],
      "execution_count": null,
      "outputs": [
        {
          "output_type": "stream",
          "text": [
            "1.602176634e-19\n",
            "1.602176634e-19\n"
          ],
          "name": "stdout"
        }
      ]
    },
    {
      "cell_type": "code",
      "metadata": {
        "colab": {
          "base_uri": "https://localhost:8080/"
        },
        "id": "L3etgeE12VsN",
        "outputId": "04427cdd-e55d-4d5d-fc21-4c1d1418ba4c"
      },
      "source": [
        "from scipy import constants\r\n",
        "print(constants.hp)\r\n",
        "print(constants.horsepower)"
      ],
      "execution_count": null,
      "outputs": [
        {
          "output_type": "stream",
          "text": [
            "745.6998715822701\n",
            "745.6998715822701\n"
          ],
          "name": "stdout"
        }
      ]
    },
    {
      "cell_type": "markdown",
      "metadata": {
        "id": "Dh-BzX7x2j21"
      },
      "source": [
        "Find the Root of the Given Equation\r\n",
        "\r\n",
        "\r\n",
        "1.  The given equation is:-x+cos(x)\r\n",
        "\r\n",
        "\r\n"
      ]
    },
    {
      "cell_type": "code",
      "metadata": {
        "colab": {
          "base_uri": "https://localhost:8080/"
        },
        "id": "y_FADY5O2byX",
        "outputId": "bf61cd05-744c-4980-9b43-ae377e872332"
      },
      "source": [
        "from scipy.optimize import root\r\n",
        "from math import cos\r\n",
        "\r\n",
        "def eqn(x):\r\n",
        "  return x+cos(x)\r\n",
        "\r\n",
        "myroot=root(eqn,0)\r\n",
        "print(myroot.x)"
      ],
      "execution_count": null,
      "outputs": [
        {
          "output_type": "stream",
          "text": [
            "[-0.73908513]\n"
          ],
          "name": "stdout"
        }
      ]
    },
    {
      "cell_type": "code",
      "metadata": {
        "colab": {
          "base_uri": "https://localhost:8080/"
        },
        "id": "sAcyGq5x3iYh",
        "outputId": "573726ee-a973-4aaa-ec34-705cc51f15f8"
      },
      "source": [
        "from scipy.optimize import root\r\n",
        "from math import cos\r\n",
        "\r\n",
        "def eqn(x):\r\n",
        "  return x+cos(x)\r\n",
        "\r\n",
        "myroot=root(eqn,0)\r\n",
        "print(myroot)"
      ],
      "execution_count": null,
      "outputs": [
        {
          "output_type": "stream",
          "text": [
            "    fjac: array([[-1.]])\n",
            "     fun: array([0.])\n",
            " message: 'The solution converged.'\n",
            "    nfev: 9\n",
            "     qtf: array([-2.66786593e-13])\n",
            "       r: array([-1.67361202])\n",
            "  status: 1\n",
            " success: True\n",
            "       x: array([-0.73908513])\n"
          ],
          "name": "stdout"
        }
      ]
    },
    {
      "cell_type": "markdown",
      "metadata": {
        "id": "HB-To-DE4p06"
      },
      "source": [
        "x^2+x+2"
      ]
    },
    {
      "cell_type": "code",
      "metadata": {
        "colab": {
          "base_uri": "https://localhost:8080/"
        },
        "id": "j54ru0034VLV",
        "outputId": "792a5b7c-5ae1-49be-ec20-c5d9c1fb6ab1"
      },
      "source": [
        "from scipy.optimize import minimize\r\n",
        "\r\n",
        "def eqn(x):\r\n",
        "  return x**2+x+2\r\n",
        "\r\n",
        "mymin=minimize(eqn,0,method=\"BFGS\")\r\n",
        "print(mymin)"
      ],
      "execution_count": null,
      "outputs": [
        {
          "output_type": "stream",
          "text": [
            "      fun: 1.75\n",
            " hess_inv: array([[0.50000001]])\n",
            "      jac: array([0.])\n",
            "  message: 'Optimization terminated successfully.'\n",
            "     nfev: 12\n",
            "      nit: 2\n",
            "     njev: 4\n",
            "   status: 0\n",
            "  success: True\n",
            "        x: array([-0.50000001])\n"
          ],
          "name": "stdout"
        }
      ]
    },
    {
      "cell_type": "code",
      "metadata": {
        "id": "NjvTlfGh44Vh"
      },
      "source": [
        ""
      ],
      "execution_count": null,
      "outputs": []
    }
  ]
}